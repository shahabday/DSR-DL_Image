{
  "cells": [
    {
      "cell_type": "markdown",
      "metadata": {
        "id": "QI4D_vZ2z9-6"
      },
      "source": [
        "### Steps:\n",
        "- Download and arange CatsVsDogs data\n",
        "- Setup ConvNet\n",
        "- Learn image_dataset_from_directory tf.Dataset\n",
        "- Apply data augmentation\n",
        "\n",
        "### Covered topics and learning objectives\n",
        "- Regularization for image classification\n",
        "- Data augmentation"
      ]
    },
    {
      "cell_type": "code",
      "execution_count": 1,
      "metadata": {
        "id": "aYqgar_Sz9-8",
        "outputId": "2236eb93-a328-4b4c-cf16-3fd487634fba",
        "colab": {
          "base_uri": "https://localhost:8080/",
          "height": 35
        }
      },
      "outputs": [
        {
          "output_type": "execute_result",
          "data": {
            "text/plain": [
              "'3.8.0'"
            ],
            "application/vnd.google.colaboratory.intrinsic+json": {
              "type": "string"
            }
          },
          "metadata": {},
          "execution_count": 1
        }
      ],
      "source": [
        "from tensorflow import keras\n",
        "keras.__version__"
      ]
    },
    {
      "cell_type": "markdown",
      "metadata": {
        "id": "UuZ9GNalz9-9"
      },
      "source": [
        "# Using ConvNets with small datasets\n",
        "\n",
        "## Training a convnet from scratch on a small dataset\n",
        "\n",
        "Having to train an image classification model using only very little data is a common situation, which you likely encounter yourself in\n",
        "practice if you ever do computer vision in a professional context.\n",
        "\n",
        "Having \"few\" samples can mean anywhere from a few hundreds to a few tens of thousands of images. As a practical example, we will focus on\n",
        "classifying images as \"dogs\" or \"cats\", in a dataset containing 4000 pictures of cats and dogs (2000 cats, 2000 dogs). We will use 2000\n",
        "pictures for training, 1000 for validation, and finally 1000 for testing.\n",
        "\n",
        "In this section, we will review one basic strategy to tackle this problem: training a new model from scratch on what little data we have. We\n",
        "will start by naively training a small convnet on our 2000 training samples, without any regularization, to set a baseline for what can be\n",
        "achieved. This will get us to a classification accuracy of 71%. At that point, our main issue will be overfitting. Then we will introduce\n",
        "*data augmentation*, a powerful technique for mitigating overfitting in computer vision. By leveraging data augmentation, we will improve\n",
        "our network to reach an accuracy of 82%.\n",
        "\n",
        "In the next section, we will review two more essential techniques for applying deep learning to small datasets: *doing feature extraction\n",
        "with a pre-trained network* (this will get us to an accuracy of 90% to 93%), and *fine-tuning a pre-trained network* (this will get us to\n",
        "our final accuracy of 95%). Together, these three strategies -- training a small model from scratch, doing feature extracting using a\n",
        "pre-trained model, and fine-tuning a pre-trained model -- will constitute your future toolbox for tackling the problem of doing computer\n",
        "vision with small datasets."
      ]
    },
    {
      "cell_type": "markdown",
      "metadata": {
        "id": "jWb57DXSz9-9"
      },
      "source": [
        "## The relevance of deep learning for small-data problems\n",
        "\n",
        "You will sometimes hear that deep learning only works when lots of data is available. This is in part a valid point: one fundamental\n",
        "characteristic of deep learning is that it is able to find interesting features in the training data on its own, without any need for manual\n",
        "feature engineering, and this can only be achieved when lots of training examples are available. This is especially true for problems where\n",
        "the input samples are very high-dimensional, like images.\n",
        "\n",
        "However, what constitutes \"lots\" of samples is relative -- relative to the size and depth of the network you are trying to train, for\n",
        "starters. It isn't possible to train a convnet to solve a complex problem with just a few tens of samples, but a few hundreds can\n",
        "potentially suffice if the model is small and well-regularized and if the task is simple.\n",
        "Because convnets learn local, translation-invariant features, they are very\n",
        "data-efficient on perceptual problems. Training a convnet from scratch on a very small image dataset will still yield reasonable results\n",
        "despite a relative lack of data, without the need for any custom feature engineering. You will see this in action in this section.\n",
        "\n",
        "But what's more, deep learning models are by nature highly repurposable: you can take, say, an image classification or speech-to-text model\n",
        "trained on a large-scale dataset then reuse it on a significantly different problem with only minor changes. Specifically, in the case of\n",
        "computer vision, many pre-trained models (usually trained on the ImageNet dataset) are now publicly available for download and can be used\n",
        "to bootstrap powerful vision models out of very little data. That's what we will do in the next section.\n",
        "\n",
        "For now, let's get started by getting our hands on the data."
      ]
    },
    {
      "cell_type": "markdown",
      "metadata": {
        "id": "2BQyZ2Mnz9-9"
      },
      "source": [
        "## Downloading the data\n",
        "\n",
        "The cats vs. dogs dataset that we will use isn't packaged with Keras. It was made available by Kaggle.com as part of a computer vision\n",
        "competition in late 2013, back when convnets weren't quite mainstream. You can download the original dataset at:\n",
        "`https://www.kaggle.com/c/dogs-vs-cats/data` (you will need to create a Kaggle account if you don't already have one -- don't worry, the\n",
        "process is painless).\n",
        "\n",
        "The pictures are medium-resolution color JPEGs. They look like this:\n",
        "\n",
        "![cats_vs_dogs_samples](https://s3.amazonaws.com/book.keras.io/img/ch5/cats_vs_dogs_samples.jpg)"
      ]
    },
    {
      "cell_type": "markdown",
      "metadata": {
        "id": "FUzTgVSnz9--"
      },
      "source": [
        "Unsurprisingly, the original dogs-versus-cats Kaggle competition, all the way back in 2013, was won by entrants who used convnets. The best entries achieved up to 95% accuracy. In this example, we will get fairly close to this accuracy (in the next section), even though we will train our models on less than 10% of the data that was available to the competitors.\n",
        "\n",
        "This dataset contains 25,000 images of dogs and cats (12,500 from each class) and is 543 MB (compressed). After downloading and uncompressing the data, we’ll create a new dataset containing three subsets: a training set with 1,000 samples of each class, a validation set with 500 samples of each class, and a test set with 1,000 samples of each class. Why do this? Because many of the image datasets you’ll encounter in your career only contain a few thousands of samples, not tens of thousands. Having more data available would make the problem easier—so it’s good practice to learn with a small dataset.\n",
        "\n",
        "Let’s make it happen in a couple calls to shutil:"
      ]
    },
    {
      "cell_type": "code",
      "execution_count": 2,
      "metadata": {
        "id": "_CoBSlCKz9--"
      },
      "outputs": [],
      "source": [
        "import os, shutil, pathlib\n",
        "from pathlib import Path"
      ]
    },
    {
      "cell_type": "code",
      "source": [
        "# downloading the data from kaggele\n",
        "\n",
        "from google.colab import files\n",
        "files.upload()  # This will prompt you to upload kaggle.json\n",
        "\n",
        "import os\n",
        "import shutil\n",
        "\n",
        "os.makedirs(\"/root/.kaggle\", exist_ok=True)\n",
        "shutil.move(\"kaggle.json\", \"/root/.kaggle/\")\n",
        "os.chmod(\"/root/.kaggle/kaggle.json\", 600)  # Set proper permissions\n",
        "\n"
      ],
      "metadata": {
        "id": "qZYV91ky00db",
        "outputId": "62ff817a-b422-44d4-e520-4b8601b1e102",
        "colab": {
          "base_uri": "https://localhost:8080/",
          "height": 72
        }
      },
      "execution_count": 3,
      "outputs": [
        {
          "output_type": "display_data",
          "data": {
            "text/plain": [
              "<IPython.core.display.HTML object>"
            ],
            "text/html": [
              "\n",
              "     <input type=\"file\" id=\"files-8b265be6-4f8d-4873-bb7d-30e2de3aa014\" name=\"files[]\" multiple disabled\n",
              "        style=\"border:none\" />\n",
              "     <output id=\"result-8b265be6-4f8d-4873-bb7d-30e2de3aa014\">\n",
              "      Upload widget is only available when the cell has been executed in the\n",
              "      current browser session. Please rerun this cell to enable.\n",
              "      </output>\n",
              "      <script>// Copyright 2017 Google LLC\n",
              "//\n",
              "// Licensed under the Apache License, Version 2.0 (the \"License\");\n",
              "// you may not use this file except in compliance with the License.\n",
              "// You may obtain a copy of the License at\n",
              "//\n",
              "//      http://www.apache.org/licenses/LICENSE-2.0\n",
              "//\n",
              "// Unless required by applicable law or agreed to in writing, software\n",
              "// distributed under the License is distributed on an \"AS IS\" BASIS,\n",
              "// WITHOUT WARRANTIES OR CONDITIONS OF ANY KIND, either express or implied.\n",
              "// See the License for the specific language governing permissions and\n",
              "// limitations under the License.\n",
              "\n",
              "/**\n",
              " * @fileoverview Helpers for google.colab Python module.\n",
              " */\n",
              "(function(scope) {\n",
              "function span(text, styleAttributes = {}) {\n",
              "  const element = document.createElement('span');\n",
              "  element.textContent = text;\n",
              "  for (const key of Object.keys(styleAttributes)) {\n",
              "    element.style[key] = styleAttributes[key];\n",
              "  }\n",
              "  return element;\n",
              "}\n",
              "\n",
              "// Max number of bytes which will be uploaded at a time.\n",
              "const MAX_PAYLOAD_SIZE = 100 * 1024;\n",
              "\n",
              "function _uploadFiles(inputId, outputId) {\n",
              "  const steps = uploadFilesStep(inputId, outputId);\n",
              "  const outputElement = document.getElementById(outputId);\n",
              "  // Cache steps on the outputElement to make it available for the next call\n",
              "  // to uploadFilesContinue from Python.\n",
              "  outputElement.steps = steps;\n",
              "\n",
              "  return _uploadFilesContinue(outputId);\n",
              "}\n",
              "\n",
              "// This is roughly an async generator (not supported in the browser yet),\n",
              "// where there are multiple asynchronous steps and the Python side is going\n",
              "// to poll for completion of each step.\n",
              "// This uses a Promise to block the python side on completion of each step,\n",
              "// then passes the result of the previous step as the input to the next step.\n",
              "function _uploadFilesContinue(outputId) {\n",
              "  const outputElement = document.getElementById(outputId);\n",
              "  const steps = outputElement.steps;\n",
              "\n",
              "  const next = steps.next(outputElement.lastPromiseValue);\n",
              "  return Promise.resolve(next.value.promise).then((value) => {\n",
              "    // Cache the last promise value to make it available to the next\n",
              "    // step of the generator.\n",
              "    outputElement.lastPromiseValue = value;\n",
              "    return next.value.response;\n",
              "  });\n",
              "}\n",
              "\n",
              "/**\n",
              " * Generator function which is called between each async step of the upload\n",
              " * process.\n",
              " * @param {string} inputId Element ID of the input file picker element.\n",
              " * @param {string} outputId Element ID of the output display.\n",
              " * @return {!Iterable<!Object>} Iterable of next steps.\n",
              " */\n",
              "function* uploadFilesStep(inputId, outputId) {\n",
              "  const inputElement = document.getElementById(inputId);\n",
              "  inputElement.disabled = false;\n",
              "\n",
              "  const outputElement = document.getElementById(outputId);\n",
              "  outputElement.innerHTML = '';\n",
              "\n",
              "  const pickedPromise = new Promise((resolve) => {\n",
              "    inputElement.addEventListener('change', (e) => {\n",
              "      resolve(e.target.files);\n",
              "    });\n",
              "  });\n",
              "\n",
              "  const cancel = document.createElement('button');\n",
              "  inputElement.parentElement.appendChild(cancel);\n",
              "  cancel.textContent = 'Cancel upload';\n",
              "  const cancelPromise = new Promise((resolve) => {\n",
              "    cancel.onclick = () => {\n",
              "      resolve(null);\n",
              "    };\n",
              "  });\n",
              "\n",
              "  // Wait for the user to pick the files.\n",
              "  const files = yield {\n",
              "    promise: Promise.race([pickedPromise, cancelPromise]),\n",
              "    response: {\n",
              "      action: 'starting',\n",
              "    }\n",
              "  };\n",
              "\n",
              "  cancel.remove();\n",
              "\n",
              "  // Disable the input element since further picks are not allowed.\n",
              "  inputElement.disabled = true;\n",
              "\n",
              "  if (!files) {\n",
              "    return {\n",
              "      response: {\n",
              "        action: 'complete',\n",
              "      }\n",
              "    };\n",
              "  }\n",
              "\n",
              "  for (const file of files) {\n",
              "    const li = document.createElement('li');\n",
              "    li.append(span(file.name, {fontWeight: 'bold'}));\n",
              "    li.append(span(\n",
              "        `(${file.type || 'n/a'}) - ${file.size} bytes, ` +\n",
              "        `last modified: ${\n",
              "            file.lastModifiedDate ? file.lastModifiedDate.toLocaleDateString() :\n",
              "                                    'n/a'} - `));\n",
              "    const percent = span('0% done');\n",
              "    li.appendChild(percent);\n",
              "\n",
              "    outputElement.appendChild(li);\n",
              "\n",
              "    const fileDataPromise = new Promise((resolve) => {\n",
              "      const reader = new FileReader();\n",
              "      reader.onload = (e) => {\n",
              "        resolve(e.target.result);\n",
              "      };\n",
              "      reader.readAsArrayBuffer(file);\n",
              "    });\n",
              "    // Wait for the data to be ready.\n",
              "    let fileData = yield {\n",
              "      promise: fileDataPromise,\n",
              "      response: {\n",
              "        action: 'continue',\n",
              "      }\n",
              "    };\n",
              "\n",
              "    // Use a chunked sending to avoid message size limits. See b/62115660.\n",
              "    let position = 0;\n",
              "    do {\n",
              "      const length = Math.min(fileData.byteLength - position, MAX_PAYLOAD_SIZE);\n",
              "      const chunk = new Uint8Array(fileData, position, length);\n",
              "      position += length;\n",
              "\n",
              "      const base64 = btoa(String.fromCharCode.apply(null, chunk));\n",
              "      yield {\n",
              "        response: {\n",
              "          action: 'append',\n",
              "          file: file.name,\n",
              "          data: base64,\n",
              "        },\n",
              "      };\n",
              "\n",
              "      let percentDone = fileData.byteLength === 0 ?\n",
              "          100 :\n",
              "          Math.round((position / fileData.byteLength) * 100);\n",
              "      percent.textContent = `${percentDone}% done`;\n",
              "\n",
              "    } while (position < fileData.byteLength);\n",
              "  }\n",
              "\n",
              "  // All done.\n",
              "  yield {\n",
              "    response: {\n",
              "      action: 'complete',\n",
              "    }\n",
              "  };\n",
              "}\n",
              "\n",
              "scope.google = scope.google || {};\n",
              "scope.google.colab = scope.google.colab || {};\n",
              "scope.google.colab._files = {\n",
              "  _uploadFiles,\n",
              "  _uploadFilesContinue,\n",
              "};\n",
              "})(self);\n",
              "</script> "
            ]
          },
          "metadata": {}
        },
        {
          "output_type": "stream",
          "name": "stdout",
          "text": [
            "Saving kaggle.json to kaggle.json\n"
          ]
        }
      ]
    },
    {
      "cell_type": "code",
      "source": [
        "\n",
        "!kaggle competitions download -c dogs-vs-cats\n",
        "\n"
      ],
      "metadata": {
        "id": "Wdhcb_Ps0_Mv",
        "outputId": "ce414e2e-8b73-4593-8c08-b4c9880db6e0",
        "colab": {
          "base_uri": "https://localhost:8080/"
        }
      },
      "execution_count": 4,
      "outputs": [
        {
          "output_type": "stream",
          "name": "stdout",
          "text": [
            "Downloading dogs-vs-cats.zip to /content\n",
            " 99% 800M/812M [00:03<00:00, 255MB/s]\n",
            "100% 812M/812M [00:03<00:00, 239MB/s]\n"
          ]
        }
      ]
    },
    {
      "cell_type": "code",
      "source": [
        "import zipfile\n",
        "\n",
        "with zipfile.ZipFile('dogs-vs-cats.zip') as zip_ref:\n",
        "  zip_ref.extractall(\"dogsvscats\")"
      ],
      "metadata": {
        "id": "HvRcFI3_2wtE"
      },
      "execution_count": 7,
      "outputs": []
    },
    {
      "cell_type": "code",
      "source": [
        "os.listdir('dogsvscats')"
      ],
      "metadata": {
        "id": "ZiNbeDlK3B0c",
        "outputId": "12cf9f44-4655-45a2-9f79-a0db55a08989",
        "colab": {
          "base_uri": "https://localhost:8080/"
        }
      },
      "execution_count": 10,
      "outputs": [
        {
          "output_type": "execute_result",
          "data": {
            "text/plain": [
              "['train.zip', 'test1.zip', 'sampleSubmission.csv']"
            ]
          },
          "metadata": {},
          "execution_count": 10
        }
      ]
    },
    {
      "cell_type": "code",
      "source": [
        "import zipfile\n",
        "path = 'dogsvscats'\n",
        "\n",
        "with zipfile.ZipFile(os.path.join(path ,\"train.zip\"), 'r') as zip_ref:\n",
        "    zip_ref.extractall(\"train\")\n",
        "\n",
        "with zipfile.ZipFile(os.path.join(path,\"test1.zip\"), 'r') as zip_ref:\n",
        "    zip_ref.extractall(\"test\")\n"
      ],
      "metadata": {
        "id": "K22DD-8r0_tx"
      },
      "execution_count": 13,
      "outputs": []
    },
    {
      "cell_type": "code",
      "source": [
        "import os\n",
        "os.listdir()"
      ],
      "metadata": {
        "id": "JHqK1pxG2nzd",
        "outputId": "9a70503d-3e8e-4516-d46b-da43f578c9fc",
        "colab": {
          "base_uri": "https://localhost:8080/"
        }
      },
      "execution_count": 14,
      "outputs": [
        {
          "output_type": "execute_result",
          "data": {
            "text/plain": [
              "['.config', 'train', 'dogsvscats', 'dogs-vs-cats.zip', 'test', 'sample_data']"
            ]
          },
          "metadata": {},
          "execution_count": 14
        }
      ]
    },
    {
      "cell_type": "code",
      "execution_count": null,
      "metadata": {
        "id": "a737Hvciz9--"
      },
      "outputs": [],
      "source": [
        "REPO_DIR = Path(os.getcwd()).parent\n",
        "\n",
        "# Note: Please put the data into the data folder in the root of the repo for the following to work!\n",
        "original_dir = r'C:/Users/kbuzar/Downloads/Deep-Learning-for-Computer-Vision-Fundamentals-DSR-Feb-2024-main/Module 1 - ConvNets from scratch' + '/' + r\"data/kaggle_original_data/train\"\n",
        "new_base_dir = r'C:/Users/kbuzar/Downloads/Deep-Learning-for-Computer-Vision-Fundamentals-DSR-Feb-2024-main/Module 1 - ConvNets from scratch' + '/' + r\"data/cats_vs_dogs_small\""
      ]
    },
    {
      "cell_type": "code",
      "source": [
        "original_dir = 'train/train'\n",
        "new_base_dir = 'cats_dogs_small'"
      ],
      "metadata": {
        "id": "R9BR-HKf4Wu_"
      },
      "execution_count": 20,
      "outputs": []
    },
    {
      "cell_type": "code",
      "execution_count": null,
      "metadata": {
        "id": "bByGXGYbz9--",
        "outputId": "6d15d399-809d-4a07-dfe9-4f98939f5cba"
      },
      "outputs": [
        {
          "name": "stdout",
          "output_type": "stream",
          "text": [
            "C:/Users/kbuzar/Downloads/Deep-Learning-for-Computer-Vision-Fundamentals-DSR-Feb-2024-main/Module 1 - ConvNets from scratch/data/kaggle_original_data/train\n"
          ]
        }
      ],
      "source": [
        "print(original_dir)"
      ]
    },
    {
      "cell_type": "code",
      "execution_count": 19,
      "metadata": {
        "collapsed": true,
        "id": "eIESWsP7z9-_",
        "outputId": "a60e925b-a36d-4efa-8448-510f658eed06",
        "colab": {
          "base_uri": "https://localhost:8080/"
        }
      },
      "outputs": [
        {
          "output_type": "execute_result",
          "data": {
            "text/plain": [
              "['cat.1025.jpg',\n",
              " 'cat.8429.jpg',\n",
              " 'dog.9922.jpg',\n",
              " 'cat.7517.jpg',\n",
              " 'dog.1083.jpg',\n",
              " 'dog.4964.jpg',\n",
              " 'cat.7128.jpg',\n",
              " 'cat.1316.jpg',\n",
              " 'cat.4501.jpg',\n",
              " 'dog.2483.jpg',\n",
              " 'dog.10879.jpg',\n",
              " 'cat.11428.jpg',\n",
              " 'cat.9200.jpg',\n",
              " 'cat.9867.jpg',\n",
              " 'dog.8364.jpg',\n",
              " 'cat.7294.jpg',\n",
              " 'cat.5624.jpg',\n",
              " 'cat.249.jpg',\n",
              " 'cat.7275.jpg',\n",
              " 'cat.7438.jpg',\n",
              " 'dog.9341.jpg',\n",
              " 'dog.3873.jpg',\n",
              " 'dog.5920.jpg',\n",
              " 'dog.8962.jpg',\n",
              " 'dog.2979.jpg',\n",
              " 'dog.9210.jpg',\n",
              " 'cat.6768.jpg',\n",
              " 'cat.9957.jpg',\n",
              " 'cat.9868.jpg',\n",
              " 'dog.6549.jpg',\n",
              " 'cat.4252.jpg',\n",
              " 'cat.8257.jpg',\n",
              " 'dog.5244.jpg',\n",
              " 'dog.1416.jpg',\n",
              " 'cat.11394.jpg',\n",
              " 'dog.5464.jpg',\n",
              " 'cat.975.jpg',\n",
              " 'dog.4265.jpg',\n",
              " 'cat.12088.jpg',\n",
              " 'dog.7118.jpg',\n",
              " 'cat.1044.jpg',\n",
              " 'cat.4390.jpg',\n",
              " 'cat.7859.jpg',\n",
              " 'cat.5131.jpg',\n",
              " 'cat.2662.jpg',\n",
              " 'cat.6887.jpg',\n",
              " 'cat.9334.jpg',\n",
              " 'cat.9891.jpg',\n",
              " 'cat.9447.jpg',\n",
              " 'dog.2242.jpg',\n",
              " 'dog.1732.jpg',\n",
              " 'cat.9651.jpg',\n",
              " 'cat.96.jpg',\n",
              " 'dog.905.jpg',\n",
              " 'cat.3540.jpg',\n",
              " 'cat.10101.jpg',\n",
              " 'dog.4781.jpg',\n",
              " 'dog.1636.jpg',\n",
              " 'dog.6751.jpg',\n",
              " 'dog.5080.jpg',\n",
              " 'dog.11049.jpg',\n",
              " 'dog.11948.jpg',\n",
              " 'dog.8340.jpg',\n",
              " 'dog.1554.jpg',\n",
              " 'dog.3820.jpg',\n",
              " 'dog.10532.jpg',\n",
              " 'dog.1301.jpg',\n",
              " 'dog.1499.jpg',\n",
              " 'cat.11786.jpg',\n",
              " 'cat.4460.jpg',\n",
              " 'cat.1625.jpg',\n",
              " 'cat.7945.jpg',\n",
              " 'cat.8633.jpg',\n",
              " 'dog.6863.jpg',\n",
              " 'dog.6474.jpg',\n",
              " 'dog.549.jpg',\n",
              " 'cat.9474.jpg',\n",
              " 'dog.3600.jpg',\n",
              " 'cat.6297.jpg',\n",
              " 'cat.6214.jpg',\n",
              " 'dog.7645.jpg',\n",
              " 'dog.8679.jpg',\n",
              " 'dog.8811.jpg',\n",
              " 'cat.12206.jpg',\n",
              " 'cat.11281.jpg',\n",
              " 'dog.6528.jpg',\n",
              " 'dog.715.jpg',\n",
              " 'dog.94.jpg',\n",
              " 'dog.6202.jpg',\n",
              " 'dog.7753.jpg',\n",
              " 'dog.695.jpg',\n",
              " 'dog.8193.jpg',\n",
              " 'dog.11071.jpg',\n",
              " 'cat.4193.jpg',\n",
              " 'dog.775.jpg',\n",
              " 'dog.11813.jpg',\n",
              " 'dog.4413.jpg',\n",
              " 'dog.5331.jpg',\n",
              " 'dog.1050.jpg',\n",
              " 'dog.2999.jpg',\n",
              " 'dog.6668.jpg',\n",
              " 'dog.11966.jpg',\n",
              " 'dog.1869.jpg',\n",
              " 'dog.4627.jpg',\n",
              " 'cat.366.jpg',\n",
              " 'dog.8527.jpg',\n",
              " 'cat.12261.jpg',\n",
              " 'cat.11502.jpg',\n",
              " 'cat.1623.jpg',\n",
              " 'dog.11754.jpg',\n",
              " 'dog.2542.jpg',\n",
              " 'dog.5119.jpg',\n",
              " 'dog.5812.jpg',\n",
              " 'cat.3151.jpg',\n",
              " 'cat.5371.jpg',\n",
              " 'dog.6815.jpg',\n",
              " 'cat.7164.jpg',\n",
              " 'cat.7201.jpg',\n",
              " 'dog.1670.jpg',\n",
              " 'dog.2853.jpg',\n",
              " 'dog.9553.jpg',\n",
              " 'dog.7527.jpg',\n",
              " 'dog.3107.jpg',\n",
              " 'dog.694.jpg',\n",
              " 'dog.7387.jpg',\n",
              " 'dog.3233.jpg',\n",
              " 'dog.8385.jpg',\n",
              " 'cat.6787.jpg',\n",
              " 'cat.4736.jpg',\n",
              " 'cat.5743.jpg',\n",
              " 'cat.4780.jpg',\n",
              " 'cat.1281.jpg',\n",
              " 'dog.10051.jpg',\n",
              " 'dog.11371.jpg',\n",
              " 'dog.1210.jpg',\n",
              " 'dog.5111.jpg',\n",
              " 'dog.4445.jpg',\n",
              " 'cat.9537.jpg',\n",
              " 'cat.4113.jpg',\n",
              " 'dog.6794.jpg',\n",
              " 'dog.7910.jpg',\n",
              " 'dog.1919.jpg',\n",
              " 'cat.9328.jpg',\n",
              " 'cat.2028.jpg',\n",
              " 'cat.8249.jpg',\n",
              " 'dog.4831.jpg',\n",
              " 'cat.11609.jpg',\n",
              " 'dog.792.jpg',\n",
              " 'cat.1210.jpg',\n",
              " 'cat.159.jpg',\n",
              " 'dog.11323.jpg',\n",
              " 'dog.5583.jpg',\n",
              " 'cat.9329.jpg',\n",
              " 'dog.2307.jpg',\n",
              " 'dog.4576.jpg',\n",
              " 'dog.5032.jpg',\n",
              " 'dog.9023.jpg',\n",
              " 'cat.4062.jpg',\n",
              " 'dog.4100.jpg',\n",
              " 'dog.6342.jpg',\n",
              " 'cat.10444.jpg',\n",
              " 'cat.563.jpg',\n",
              " 'cat.9231.jpg',\n",
              " 'cat.10063.jpg',\n",
              " 'dog.11899.jpg',\n",
              " 'dog.409.jpg',\n",
              " 'dog.9532.jpg',\n",
              " 'dog.9533.jpg',\n",
              " 'cat.10728.jpg',\n",
              " 'dog.7820.jpg',\n",
              " 'cat.5086.jpg',\n",
              " 'dog.4862.jpg',\n",
              " 'dog.3932.jpg',\n",
              " 'cat.9798.jpg',\n",
              " 'cat.8962.jpg',\n",
              " 'cat.5456.jpg',\n",
              " 'dog.7545.jpg',\n",
              " 'dog.7511.jpg',\n",
              " 'cat.9188.jpg',\n",
              " 'cat.4318.jpg',\n",
              " 'cat.6848.jpg',\n",
              " 'cat.9189.jpg',\n",
              " 'cat.4624.jpg',\n",
              " 'cat.2375.jpg',\n",
              " 'cat.9048.jpg',\n",
              " 'dog.1935.jpg',\n",
              " 'cat.707.jpg',\n",
              " 'cat.9893.jpg',\n",
              " 'dog.6049.jpg',\n",
              " 'cat.7548.jpg',\n",
              " 'dog.7115.jpg',\n",
              " 'cat.9624.jpg',\n",
              " 'dog.6458.jpg',\n",
              " 'cat.4734.jpg',\n",
              " 'dog.7707.jpg',\n",
              " 'dog.3956.jpg',\n",
              " 'dog.6.jpg',\n",
              " 'cat.10341.jpg',\n",
              " 'dog.7475.jpg',\n",
              " 'cat.8390.jpg',\n",
              " 'dog.9885.jpg',\n",
              " 'cat.5766.jpg',\n",
              " 'cat.11388.jpg',\n",
              " 'dog.5899.jpg',\n",
              " 'dog.1063.jpg',\n",
              " 'cat.3235.jpg',\n",
              " 'dog.12323.jpg',\n",
              " 'dog.9455.jpg',\n",
              " 'dog.3193.jpg',\n",
              " 'cat.4297.jpg',\n",
              " 'dog.11381.jpg',\n",
              " 'cat.2054.jpg',\n",
              " 'dog.7945.jpg',\n",
              " 'dog.2579.jpg',\n",
              " 'cat.11135.jpg',\n",
              " 'cat.8818.jpg',\n",
              " 'dog.1726.jpg',\n",
              " 'dog.540.jpg',\n",
              " 'cat.990.jpg',\n",
              " 'cat.11380.jpg',\n",
              " 'dog.10085.jpg',\n",
              " 'cat.4928.jpg',\n",
              " 'dog.1073.jpg',\n",
              " 'cat.6671.jpg',\n",
              " 'dog.10156.jpg',\n",
              " 'cat.12306.jpg',\n",
              " 'dog.4801.jpg',\n",
              " 'cat.7536.jpg',\n",
              " 'dog.10179.jpg',\n",
              " 'dog.11507.jpg',\n",
              " 'cat.7376.jpg',\n",
              " 'dog.3996.jpg',\n",
              " 'cat.10365.jpg',\n",
              " 'dog.4072.jpg',\n",
              " 'dog.5038.jpg',\n",
              " 'dog.11540.jpg',\n",
              " 'dog.6997.jpg',\n",
              " 'dog.10136.jpg',\n",
              " 'dog.2926.jpg',\n",
              " 'cat.4357.jpg',\n",
              " 'dog.7093.jpg',\n",
              " 'cat.5481.jpg',\n",
              " 'cat.6932.jpg',\n",
              " 'dog.3829.jpg',\n",
              " 'dog.6354.jpg',\n",
              " 'cat.6294.jpg',\n",
              " 'cat.2774.jpg',\n",
              " 'dog.8161.jpg',\n",
              " 'cat.8130.jpg',\n",
              " 'dog.756.jpg',\n",
              " 'dog.8341.jpg',\n",
              " 'cat.10160.jpg',\n",
              " 'dog.4191.jpg',\n",
              " 'dog.1102.jpg',\n",
              " 'dog.8773.jpg',\n",
              " 'cat.1624.jpg',\n",
              " 'cat.1474.jpg',\n",
              " 'cat.4453.jpg',\n",
              " 'cat.3146.jpg',\n",
              " 'dog.2777.jpg',\n",
              " 'dog.4977.jpg',\n",
              " 'dog.5665.jpg',\n",
              " 'dog.3158.jpg',\n",
              " 'dog.8674.jpg',\n",
              " 'cat.7972.jpg',\n",
              " 'cat.10245.jpg',\n",
              " 'cat.5230.jpg',\n",
              " 'cat.11745.jpg',\n",
              " 'cat.7255.jpg',\n",
              " 'cat.9217.jpg',\n",
              " 'dog.5954.jpg',\n",
              " 'dog.11967.jpg',\n",
              " 'cat.10060.jpg',\n",
              " 'dog.11557.jpg',\n",
              " 'dog.1500.jpg',\n",
              " 'dog.9875.jpg',\n",
              " 'cat.12373.jpg',\n",
              " 'cat.8101.jpg',\n",
              " 'cat.4383.jpg',\n",
              " 'dog.9366.jpg',\n",
              " 'dog.12413.jpg',\n",
              " 'dog.7498.jpg',\n",
              " 'cat.5962.jpg',\n",
              " 'cat.3693.jpg',\n",
              " 'cat.4875.jpg',\n",
              " 'dog.999.jpg',\n",
              " 'dog.11624.jpg',\n",
              " 'cat.9912.jpg',\n",
              " 'cat.4841.jpg',\n",
              " 'cat.1958.jpg',\n",
              " 'cat.8957.jpg',\n",
              " 'cat.3440.jpg',\n",
              " 'cat.1873.jpg',\n",
              " 'cat.7306.jpg',\n",
              " 'cat.5756.jpg',\n",
              " 'cat.5607.jpg',\n",
              " 'cat.12022.jpg',\n",
              " 'cat.11510.jpg',\n",
              " 'cat.7291.jpg',\n",
              " 'dog.1829.jpg',\n",
              " 'cat.4280.jpg',\n",
              " 'dog.12080.jpg',\n",
              " 'cat.9793.jpg',\n",
              " 'cat.2638.jpg',\n",
              " 'cat.3530.jpg',\n",
              " 'dog.8701.jpg',\n",
              " 'dog.6724.jpg',\n",
              " 'dog.10568.jpg',\n",
              " 'dog.2662.jpg',\n",
              " 'dog.6445.jpg',\n",
              " 'cat.7710.jpg',\n",
              " 'dog.7265.jpg',\n",
              " 'cat.7044.jpg',\n",
              " 'dog.3131.jpg',\n",
              " 'cat.5284.jpg',\n",
              " 'dog.5986.jpg',\n",
              " 'dog.2599.jpg',\n",
              " 'cat.470.jpg',\n",
              " 'dog.9853.jpg',\n",
              " 'dog.5332.jpg',\n",
              " 'cat.3157.jpg',\n",
              " 'dog.2807.jpg',\n",
              " 'cat.2579.jpg',\n",
              " 'cat.5296.jpg',\n",
              " 'dog.9538.jpg',\n",
              " 'dog.3466.jpg',\n",
              " 'dog.5779.jpg',\n",
              " 'dog.2502.jpg',\n",
              " 'dog.2732.jpg',\n",
              " 'dog.1678.jpg',\n",
              " 'cat.4339.jpg',\n",
              " 'dog.4989.jpg',\n",
              " 'cat.12289.jpg',\n",
              " 'dog.6569.jpg',\n",
              " 'dog.5354.jpg',\n",
              " 'dog.8796.jpg',\n",
              " 'cat.9464.jpg',\n",
              " 'cat.8205.jpg',\n",
              " 'dog.2052.jpg',\n",
              " 'cat.4812.jpg',\n",
              " 'cat.12213.jpg',\n",
              " 'cat.5786.jpg',\n",
              " 'cat.9465.jpg',\n",
              " 'cat.5880.jpg',\n",
              " 'cat.662.jpg',\n",
              " 'cat.2583.jpg',\n",
              " 'dog.334.jpg',\n",
              " 'cat.5608.jpg',\n",
              " 'dog.131.jpg',\n",
              " 'dog.5791.jpg',\n",
              " 'cat.10609.jpg',\n",
              " 'dog.9693.jpg',\n",
              " 'dog.7663.jpg',\n",
              " 'dog.3151.jpg',\n",
              " 'cat.8666.jpg',\n",
              " 'cat.5620.jpg',\n",
              " 'cat.7879.jpg',\n",
              " 'cat.7246.jpg',\n",
              " 'dog.5514.jpg',\n",
              " 'cat.11606.jpg',\n",
              " 'cat.1411.jpg',\n",
              " 'cat.16.jpg',\n",
              " 'dog.1087.jpg',\n",
              " 'cat.10181.jpg',\n",
              " 'dog.9978.jpg',\n",
              " 'cat.11239.jpg',\n",
              " 'cat.8247.jpg',\n",
              " 'dog.9598.jpg',\n",
              " 'dog.11760.jpg',\n",
              " 'cat.268.jpg',\n",
              " 'dog.9167.jpg',\n",
              " 'dog.10691.jpg',\n",
              " 'cat.11549.jpg',\n",
              " 'cat.5188.jpg',\n",
              " 'cat.1235.jpg',\n",
              " 'dog.5806.jpg',\n",
              " 'dog.2861.jpg',\n",
              " 'dog.4322.jpg',\n",
              " 'cat.10868.jpg',\n",
              " 'cat.8178.jpg',\n",
              " 'dog.8885.jpg',\n",
              " 'dog.7922.jpg',\n",
              " 'dog.5711.jpg',\n",
              " 'dog.4838.jpg',\n",
              " 'cat.5505.jpg',\n",
              " 'cat.7088.jpg',\n",
              " 'dog.4098.jpg',\n",
              " 'dog.5107.jpg',\n",
              " 'dog.5273.jpg',\n",
              " 'dog.8652.jpg',\n",
              " 'cat.329.jpg',\n",
              " 'cat.7270.jpg',\n",
              " 'cat.3464.jpg',\n",
              " 'cat.4810.jpg',\n",
              " 'cat.2274.jpg',\n",
              " 'dog.10411.jpg',\n",
              " 'cat.1379.jpg',\n",
              " 'cat.2505.jpg',\n",
              " 'dog.6546.jpg',\n",
              " 'cat.10349.jpg',\n",
              " 'cat.5303.jpg',\n",
              " 'cat.9608.jpg',\n",
              " 'cat.9320.jpg',\n",
              " 'cat.4117.jpg',\n",
              " 'cat.698.jpg',\n",
              " 'dog.1245.jpg',\n",
              " 'dog.2721.jpg',\n",
              " 'cat.3703.jpg',\n",
              " 'cat.4935.jpg',\n",
              " 'cat.4730.jpg',\n",
              " 'cat.8464.jpg',\n",
              " 'dog.8914.jpg',\n",
              " 'dog.5204.jpg',\n",
              " 'cat.7752.jpg',\n",
              " 'cat.6315.jpg',\n",
              " 'cat.804.jpg',\n",
              " 'cat.4358.jpg',\n",
              " 'dog.7983.jpg',\n",
              " 'cat.8634.jpg',\n",
              " 'cat.95.jpg',\n",
              " 'dog.1300.jpg',\n",
              " 'cat.801.jpg',\n",
              " 'dog.7669.jpg',\n",
              " 'cat.4265.jpg',\n",
              " 'dog.6360.jpg',\n",
              " 'dog.948.jpg',\n",
              " 'dog.7288.jpg',\n",
              " 'cat.10100.jpg',\n",
              " 'dog.4316.jpg',\n",
              " 'cat.5087.jpg',\n",
              " 'dog.12483.jpg',\n",
              " 'cat.2938.jpg',\n",
              " 'cat.12348.jpg',\n",
              " 'cat.5983.jpg',\n",
              " 'dog.4884.jpg',\n",
              " 'cat.5790.jpg',\n",
              " 'cat.11880.jpg',\n",
              " 'cat.3142.jpg',\n",
              " 'dog.1959.jpg',\n",
              " 'cat.2358.jpg',\n",
              " 'cat.10094.jpg',\n",
              " 'cat.3970.jpg',\n",
              " 'cat.6800.jpg',\n",
              " 'cat.1927.jpg',\n",
              " 'cat.12030.jpg',\n",
              " 'cat.1278.jpg',\n",
              " 'dog.4085.jpg',\n",
              " 'dog.1793.jpg',\n",
              " 'cat.4064.jpg',\n",
              " 'dog.6575.jpg',\n",
              " 'cat.6338.jpg',\n",
              " 'cat.5491.jpg',\n",
              " 'dog.1941.jpg',\n",
              " 'cat.6878.jpg',\n",
              " 'cat.7799.jpg',\n",
              " 'cat.12257.jpg',\n",
              " 'dog.10053.jpg',\n",
              " 'dog.10349.jpg',\n",
              " 'dog.12223.jpg',\n",
              " 'dog.10529.jpg',\n",
              " 'cat.6982.jpg',\n",
              " 'cat.7130.jpg',\n",
              " 'dog.7463.jpg',\n",
              " 'cat.9698.jpg',\n",
              " 'cat.785.jpg',\n",
              " 'cat.9119.jpg',\n",
              " 'cat.10125.jpg',\n",
              " 'dog.9113.jpg',\n",
              " 'cat.6562.jpg',\n",
              " 'dog.7193.jpg',\n",
              " 'dog.7592.jpg',\n",
              " 'cat.4886.jpg',\n",
              " 'dog.173.jpg',\n",
              " 'dog.4070.jpg',\n",
              " 'dog.8083.jpg',\n",
              " 'cat.3544.jpg',\n",
              " 'cat.11761.jpg',\n",
              " 'cat.7115.jpg',\n",
              " 'dog.5473.jpg',\n",
              " 'cat.10878.jpg',\n",
              " 'cat.305.jpg',\n",
              " 'cat.10321.jpg',\n",
              " 'dog.4830.jpg',\n",
              " 'dog.12138.jpg',\n",
              " 'dog.4923.jpg',\n",
              " 'cat.4517.jpg',\n",
              " 'cat.7458.jpg',\n",
              " 'cat.9002.jpg',\n",
              " 'cat.2320.jpg',\n",
              " 'cat.10818.jpg',\n",
              " 'dog.6084.jpg',\n",
              " 'cat.10390.jpg',\n",
              " 'cat.5960.jpg',\n",
              " 'dog.9283.jpg',\n",
              " 'dog.3623.jpg',\n",
              " 'dog.9612.jpg',\n",
              " 'cat.11102.jpg',\n",
              " 'dog.1217.jpg',\n",
              " 'cat.1602.jpg',\n",
              " 'cat.10433.jpg',\n",
              " 'dog.4157.jpg',\n",
              " 'cat.8378.jpg',\n",
              " 'cat.8316.jpg',\n",
              " 'cat.8165.jpg',\n",
              " 'cat.193.jpg',\n",
              " 'dog.4373.jpg',\n",
              " 'dog.3595.jpg',\n",
              " 'dog.10983.jpg',\n",
              " 'cat.6334.jpg',\n",
              " 'cat.5470.jpg',\n",
              " 'dog.6526.jpg',\n",
              " 'dog.9642.jpg',\n",
              " 'dog.6143.jpg',\n",
              " 'cat.3758.jpg',\n",
              " 'dog.708.jpg',\n",
              " 'cat.10396.jpg',\n",
              " 'cat.7261.jpg',\n",
              " 'dog.11212.jpg',\n",
              " 'cat.6457.jpg',\n",
              " 'cat.8051.jpg',\n",
              " 'dog.6303.jpg',\n",
              " 'cat.4377.jpg',\n",
              " 'cat.10998.jpg',\n",
              " 'cat.11344.jpg',\n",
              " 'cat.9284.jpg',\n",
              " 'dog.9313.jpg',\n",
              " 'dog.5141.jpg',\n",
              " 'dog.1072.jpg',\n",
              " 'cat.7838.jpg',\n",
              " 'dog.4055.jpg',\n",
              " 'cat.7090.jpg',\n",
              " 'cat.1704.jpg',\n",
              " 'cat.7116.jpg',\n",
              " 'dog.6134.jpg',\n",
              " 'dog.10536.jpg',\n",
              " 'cat.1011.jpg',\n",
              " 'cat.7152.jpg',\n",
              " 'dog.918.jpg',\n",
              " 'cat.581.jpg',\n",
              " 'cat.4352.jpg',\n",
              " 'cat.1820.jpg',\n",
              " 'dog.2719.jpg',\n",
              " 'cat.1654.jpg',\n",
              " 'cat.2449.jpg',\n",
              " 'dog.2498.jpg',\n",
              " 'cat.1258.jpg',\n",
              " 'dog.4201.jpg',\n",
              " 'dog.9990.jpg',\n",
              " 'cat.2427.jpg',\n",
              " 'cat.11612.jpg',\n",
              " 'dog.4598.jpg',\n",
              " 'dog.5697.jpg',\n",
              " 'dog.3375.jpg',\n",
              " 'dog.4512.jpg',\n",
              " 'cat.8469.jpg',\n",
              " 'dog.1409.jpg',\n",
              " 'cat.1973.jpg',\n",
              " 'cat.9691.jpg',\n",
              " 'cat.577.jpg',\n",
              " 'dog.1511.jpg',\n",
              " 'dog.8999.jpg',\n",
              " 'dog.6533.jpg',\n",
              " 'dog.9005.jpg',\n",
              " 'cat.8597.jpg',\n",
              " 'cat.7852.jpg',\n",
              " 'cat.2840.jpg',\n",
              " 'dog.1870.jpg',\n",
              " 'cat.3648.jpg',\n",
              " 'cat.1220.jpg',\n",
              " 'cat.1823.jpg',\n",
              " 'cat.7137.jpg',\n",
              " 'cat.3478.jpg',\n",
              " 'cat.11714.jpg',\n",
              " 'cat.8777.jpg',\n",
              " 'cat.11576.jpg',\n",
              " 'dog.9058.jpg',\n",
              " 'dog.764.jpg',\n",
              " 'dog.9042.jpg',\n",
              " 'cat.454.jpg',\n",
              " 'dog.164.jpg',\n",
              " 'cat.7546.jpg',\n",
              " 'dog.8530.jpg',\n",
              " 'dog.4353.jpg',\n",
              " 'cat.4475.jpg',\n",
              " 'cat.8202.jpg',\n",
              " 'dog.7939.jpg',\n",
              " 'cat.11335.jpg',\n",
              " 'cat.1444.jpg',\n",
              " 'dog.5549.jpg',\n",
              " 'dog.8333.jpg',\n",
              " 'dog.12091.jpg',\n",
              " 'dog.7868.jpg',\n",
              " 'cat.7248.jpg',\n",
              " 'dog.2021.jpg',\n",
              " 'dog.5571.jpg',\n",
              " 'cat.1998.jpg',\n",
              " 'dog.11898.jpg',\n",
              " 'dog.12430.jpg',\n",
              " 'cat.3049.jpg',\n",
              " 'cat.11278.jpg',\n",
              " 'cat.8704.jpg',\n",
              " 'cat.11243.jpg',\n",
              " 'cat.7922.jpg',\n",
              " 'dog.8136.jpg',\n",
              " 'cat.11119.jpg',\n",
              " 'dog.4820.jpg',\n",
              " 'cat.83.jpg',\n",
              " 'cat.4207.jpg',\n",
              " 'cat.3315.jpg',\n",
              " 'cat.6419.jpg',\n",
              " 'dog.1406.jpg',\n",
              " 'cat.3587.jpg',\n",
              " 'dog.12055.jpg',\n",
              " 'cat.8549.jpg',\n",
              " 'dog.5537.jpg',\n",
              " 'cat.1536.jpg',\n",
              " 'dog.433.jpg',\n",
              " 'dog.5118.jpg',\n",
              " 'dog.8118.jpg',\n",
              " 'dog.1095.jpg',\n",
              " 'cat.1099.jpg',\n",
              " 'cat.5787.jpg',\n",
              " 'dog.7483.jpg',\n",
              " 'cat.8789.jpg',\n",
              " 'cat.5704.jpg',\n",
              " 'dog.193.jpg',\n",
              " 'cat.12122.jpg',\n",
              " 'cat.6477.jpg',\n",
              " 'dog.10537.jpg',\n",
              " 'dog.1736.jpg',\n",
              " 'cat.11575.jpg',\n",
              " 'dog.11894.jpg',\n",
              " 'dog.2364.jpg',\n",
              " 'dog.5143.jpg',\n",
              " 'cat.5404.jpg',\n",
              " 'cat.10988.jpg',\n",
              " 'cat.6662.jpg',\n",
              " 'dog.4664.jpg',\n",
              " 'cat.435.jpg',\n",
              " 'dog.11094.jpg',\n",
              " 'dog.2321.jpg',\n",
              " 'cat.12188.jpg',\n",
              " 'dog.114.jpg',\n",
              " 'cat.5799.jpg',\n",
              " 'cat.8930.jpg',\n",
              " 'dog.7791.jpg',\n",
              " 'cat.3182.jpg',\n",
              " 'dog.9870.jpg',\n",
              " 'cat.3574.jpg',\n",
              " 'dog.2479.jpg',\n",
              " 'dog.5247.jpg',\n",
              " 'cat.423.jpg',\n",
              " 'dog.4511.jpg',\n",
              " 'dog.8617.jpg',\n",
              " 'cat.11762.jpg',\n",
              " 'cat.7800.jpg',\n",
              " 'dog.3339.jpg',\n",
              " 'dog.3813.jpg',\n",
              " 'dog.9540.jpg',\n",
              " 'cat.11856.jpg',\n",
              " 'dog.7758.jpg',\n",
              " 'dog.2097.jpg',\n",
              " 'cat.9761.jpg',\n",
              " 'cat.2974.jpg',\n",
              " 'cat.7195.jpg',\n",
              " 'cat.5693.jpg',\n",
              " 'dog.1764.jpg',\n",
              " 'cat.2985.jpg',\n",
              " 'dog.1915.jpg',\n",
              " 'dog.10946.jpg',\n",
              " 'cat.5894.jpg',\n",
              " 'dog.5433.jpg',\n",
              " 'cat.3523.jpg',\n",
              " 'dog.2451.jpg',\n",
              " 'cat.12119.jpg',\n",
              " 'dog.5850.jpg',\n",
              " 'cat.7185.jpg',\n",
              " 'cat.11242.jpg',\n",
              " 'cat.11354.jpg',\n",
              " 'dog.1777.jpg',\n",
              " 'dog.6318.jpg',\n",
              " 'cat.6383.jpg',\n",
              " 'cat.7144.jpg',\n",
              " 'cat.3208.jpg',\n",
              " 'dog.1690.jpg',\n",
              " 'cat.9897.jpg',\n",
              " 'cat.4512.jpg',\n",
              " 'dog.11522.jpg',\n",
              " 'dog.404.jpg',\n",
              " 'dog.726.jpg',\n",
              " 'cat.6780.jpg',\n",
              " 'cat.1834.jpg',\n",
              " 'cat.5223.jpg',\n",
              " 'cat.8770.jpg',\n",
              " 'dog.10278.jpg',\n",
              " 'cat.2345.jpg',\n",
              " 'dog.2332.jpg',\n",
              " 'cat.10516.jpg',\n",
              " 'cat.1270.jpg',\n",
              " 'dog.10929.jpg',\n",
              " 'dog.2992.jpg',\n",
              " 'dog.2285.jpg',\n",
              " 'dog.4541.jpg',\n",
              " 'cat.11590.jpg',\n",
              " 'cat.4826.jpg',\n",
              " 'dog.618.jpg',\n",
              " 'dog.6244.jpg',\n",
              " 'dog.3058.jpg',\n",
              " 'cat.6378.jpg',\n",
              " 'dog.5872.jpg',\n",
              " 'cat.920.jpg',\n",
              " 'dog.359.jpg',\n",
              " 'dog.6259.jpg',\n",
              " 'cat.2917.jpg',\n",
              " 'cat.9612.jpg',\n",
              " 'dog.11328.jpg',\n",
              " 'dog.8559.jpg',\n",
              " 'dog.6828.jpg',\n",
              " 'dog.5926.jpg',\n",
              " 'dog.8584.jpg',\n",
              " 'cat.2044.jpg',\n",
              " 'dog.1712.jpg',\n",
              " 'dog.11194.jpg',\n",
              " 'dog.4340.jpg',\n",
              " 'cat.6524.jpg',\n",
              " 'cat.11499.jpg',\n",
              " 'dog.4.jpg',\n",
              " 'dog.1604.jpg',\n",
              " 'dog.4976.jpg',\n",
              " 'cat.12273.jpg',\n",
              " 'cat.5356.jpg',\n",
              " 'cat.5308.jpg',\n",
              " 'cat.5149.jpg',\n",
              " 'cat.10867.jpg',\n",
              " 'dog.11203.jpg',\n",
              " 'cat.6908.jpg',\n",
              " 'dog.1156.jpg',\n",
              " 'dog.4475.jpg',\n",
              " 'cat.899.jpg',\n",
              " 'dog.9219.jpg',\n",
              " 'dog.2282.jpg',\n",
              " 'cat.1525.jpg',\n",
              " 'cat.10198.jpg',\n",
              " 'cat.6869.jpg',\n",
              " 'dog.8705.jpg',\n",
              " 'dog.5750.jpg',\n",
              " 'dog.1743.jpg',\n",
              " 'dog.3344.jpg',\n",
              " 'dog.5063.jpg',\n",
              " 'dog.1842.jpg',\n",
              " 'dog.77.jpg',\n",
              " 'dog.10291.jpg',\n",
              " 'cat.11095.jpg',\n",
              " 'cat.671.jpg',\n",
              " 'cat.678.jpg',\n",
              " 'dog.11547.jpg',\n",
              " 'dog.4455.jpg',\n",
              " 'cat.4944.jpg',\n",
              " 'cat.4292.jpg',\n",
              " 'cat.9478.jpg',\n",
              " 'dog.12381.jpg',\n",
              " 'cat.3772.jpg',\n",
              " 'cat.12194.jpg',\n",
              " 'cat.692.jpg',\n",
              " 'cat.2633.jpg',\n",
              " 'cat.5972.jpg',\n",
              " 'cat.6319.jpg',\n",
              " 'dog.4955.jpg',\n",
              " 'cat.6026.jpg',\n",
              " 'cat.9101.jpg',\n",
              " 'dog.11596.jpg',\n",
              " 'cat.8116.jpg',\n",
              " 'dog.12435.jpg',\n",
              " 'dog.11590.jpg',\n",
              " 'cat.10678.jpg',\n",
              " 'cat.5501.jpg',\n",
              " 'cat.257.jpg',\n",
              " 'dog.2930.jpg',\n",
              " 'cat.1456.jpg',\n",
              " 'dog.6275.jpg',\n",
              " 'cat.7930.jpg',\n",
              " 'cat.5168.jpg',\n",
              " 'dog.2371.jpg',\n",
              " 'cat.909.jpg',\n",
              " 'cat.7506.jpg',\n",
              " 'dog.7737.jpg',\n",
              " 'dog.7803.jpg',\n",
              " 'cat.11144.jpg',\n",
              " 'cat.2750.jpg',\n",
              " 'cat.4601.jpg',\n",
              " 'cat.3659.jpg',\n",
              " 'cat.4767.jpg',\n",
              " 'dog.532.jpg',\n",
              " 'cat.6195.jpg',\n",
              " 'cat.10989.jpg',\n",
              " 'dog.4043.jpg',\n",
              " 'dog.2355.jpg',\n",
              " 'dog.2769.jpg',\n",
              " 'dog.6420.jpg',\n",
              " 'dog.6573.jpg',\n",
              " 'dog.11759.jpg',\n",
              " 'dog.12424.jpg',\n",
              " 'dog.3971.jpg',\n",
              " 'dog.5517.jpg',\n",
              " 'dog.1811.jpg',\n",
              " 'cat.4209.jpg',\n",
              " 'dog.4431.jpg',\n",
              " 'dog.2189.jpg',\n",
              " 'cat.6395.jpg',\n",
              " 'cat.9257.jpg',\n",
              " 'dog.12472.jpg',\n",
              " 'cat.10731.jpg',\n",
              " 'dog.9066.jpg',\n",
              " 'dog.7635.jpg',\n",
              " 'cat.10530.jpg',\n",
              " 'dog.2600.jpg',\n",
              " 'dog.10158.jpg',\n",
              " 'dog.9175.jpg',\n",
              " 'dog.4084.jpg',\n",
              " 'dog.96.jpg',\n",
              " 'cat.10005.jpg',\n",
              " 'dog.6775.jpg',\n",
              " 'cat.8124.jpg',\n",
              " 'dog.7564.jpg',\n",
              " 'dog.10678.jpg',\n",
              " 'dog.9343.jpg',\n",
              " 'dog.3859.jpg',\n",
              " 'dog.495.jpg',\n",
              " 'cat.8161.jpg',\n",
              " 'dog.1831.jpg',\n",
              " 'cat.860.jpg',\n",
              " 'cat.10943.jpg',\n",
              " 'cat.3082.jpg',\n",
              " 'dog.10902.jpg',\n",
              " 'dog.4912.jpg',\n",
              " 'dog.6613.jpg',\n",
              " 'dog.927.jpg',\n",
              " 'cat.827.jpg',\n",
              " 'cat.260.jpg',\n",
              " 'dog.11246.jpg',\n",
              " 'dog.6097.jpg',\n",
              " 'dog.10874.jpg',\n",
              " 'cat.760.jpg',\n",
              " 'cat.6325.jpg',\n",
              " 'dog.2306.jpg',\n",
              " 'dog.11912.jpg',\n",
              " 'cat.8339.jpg',\n",
              " 'dog.3140.jpg',\n",
              " 'dog.5312.jpg',\n",
              " 'cat.694.jpg',\n",
              " 'cat.9766.jpg',\n",
              " 'cat.10571.jpg',\n",
              " 'cat.9680.jpg',\n",
              " 'cat.727.jpg',\n",
              " 'dog.8709.jpg',\n",
              " 'dog.3743.jpg',\n",
              " 'cat.11252.jpg',\n",
              " 'cat.7985.jpg',\n",
              " 'cat.8313.jpg',\n",
              " 'cat.275.jpg',\n",
              " 'dog.9685.jpg',\n",
              " 'dog.9933.jpg',\n",
              " 'dog.11033.jpg',\n",
              " 'cat.7907.jpg',\n",
              " 'dog.7807.jpg',\n",
              " 'dog.6449.jpg',\n",
              " 'cat.9924.jpg',\n",
              " 'cat.6839.jpg',\n",
              " 'cat.11213.jpg',\n",
              " 'cat.11674.jpg',\n",
              " 'cat.10466.jpg',\n",
              " 'cat.11206.jpg',\n",
              " 'dog.10724.jpg',\n",
              " 'dog.7831.jpg',\n",
              " 'cat.4201.jpg',\n",
              " 'cat.2046.jpg',\n",
              " 'cat.10304.jpg',\n",
              " 'cat.8058.jpg',\n",
              " 'cat.5056.jpg',\n",
              " 'cat.10051.jpg',\n",
              " 'dog.12355.jpg',\n",
              " 'cat.322.jpg',\n",
              " 'dog.4834.jpg',\n",
              " 'dog.8715.jpg',\n",
              " 'dog.8555.jpg',\n",
              " 'dog.9375.jpg',\n",
              " 'dog.10610.jpg',\n",
              " 'dog.2909.jpg',\n",
              " 'dog.3205.jpg',\n",
              " 'cat.3536.jpg',\n",
              " 'cat.311.jpg',\n",
              " 'cat.12232.jpg',\n",
              " 'dog.9046.jpg',\n",
              " 'cat.3535.jpg',\n",
              " 'cat.6975.jpg',\n",
              " 'dog.1014.jpg',\n",
              " 'dog.11182.jpg',\n",
              " 'dog.11802.jpg',\n",
              " 'cat.7612.jpg',\n",
              " 'dog.1076.jpg',\n",
              " 'cat.298.jpg',\n",
              " 'dog.6311.jpg',\n",
              " 'dog.3713.jpg',\n",
              " 'dog.3234.jpg',\n",
              " 'cat.9507.jpg',\n",
              " 'dog.5758.jpg',\n",
              " 'dog.6055.jpg',\n",
              " 'dog.7100.jpg',\n",
              " 'dog.12384.jpg',\n",
              " 'dog.5873.jpg',\n",
              " 'cat.4398.jpg',\n",
              " 'dog.9348.jpg',\n",
              " 'cat.7441.jpg',\n",
              " 'dog.9898.jpg',\n",
              " 'cat.784.jpg',\n",
              " 'cat.12108.jpg',\n",
              " 'dog.1428.jpg',\n",
              " 'cat.3750.jpg',\n",
              " 'cat.12482.jpg',\n",
              " 'dog.9193.jpg',\n",
              " 'cat.3557.jpg',\n",
              " 'dog.5790.jpg',\n",
              " 'dog.4097.jpg',\n",
              " 'cat.6416.jpg',\n",
              " 'dog.6282.jpg',\n",
              " 'dog.8667.jpg',\n",
              " 'cat.6584.jpg',\n",
              " 'cat.8847.jpg',\n",
              " 'dog.10615.jpg',\n",
              " 'dog.10172.jpg',\n",
              " 'dog.6670.jpg',\n",
              " 'cat.4650.jpg',\n",
              " 'cat.9714.jpg',\n",
              " 'cat.9095.jpg',\n",
              " 'cat.2354.jpg',\n",
              " 'dog.2759.jpg',\n",
              " 'dog.10097.jpg',\n",
              " 'cat.6933.jpg',\n",
              " 'cat.10581.jpg',\n",
              " 'cat.8437.jpg',\n",
              " 'dog.7829.jpg',\n",
              " 'cat.12001.jpg',\n",
              " 'dog.336.jpg',\n",
              " 'cat.8030.jpg',\n",
              " 'cat.4111.jpg',\n",
              " 'dog.3709.jpg',\n",
              " 'dog.10624.jpg',\n",
              " 'cat.9544.jpg',\n",
              " 'dog.2290.jpg',\n",
              " 'cat.9911.jpg',\n",
              " 'cat.4800.jpg',\n",
              " 'dog.4973.jpg',\n",
              " 'cat.10154.jpg',\n",
              " 'cat.1002.jpg',\n",
              " 'dog.3362.jpg',\n",
              " 'cat.8790.jpg',\n",
              " 'dog.2363.jpg',\n",
              " 'dog.7506.jpg',\n",
              " 'dog.7840.jpg',\n",
              " 'cat.928.jpg',\n",
              " 'cat.377.jpg',\n",
              " 'cat.6448.jpg',\n",
              " 'cat.8508.jpg',\n",
              " 'cat.2684.jpg',\n",
              " 'cat.2233.jpg',\n",
              " 'dog.2262.jpg',\n",
              " 'dog.6223.jpg',\n",
              " 'cat.7316.jpg',\n",
              " 'cat.3266.jpg',\n",
              " 'dog.4308.jpg',\n",
              " 'cat.1306.jpg',\n",
              " 'dog.9991.jpg',\n",
              " 'dog.7003.jpg',\n",
              " 'cat.5951.jpg',\n",
              " 'cat.3962.jpg',\n",
              " 'cat.846.jpg',\n",
              " 'dog.1145.jpg',\n",
              " 'cat.543.jpg',\n",
              " 'cat.11877.jpg',\n",
              " 'cat.11098.jpg',\n",
              " 'dog.5289.jpg',\n",
              " 'dog.6882.jpg',\n",
              " 'cat.2611.jpg',\n",
              " 'cat.3260.jpg',\n",
              " 'cat.8774.jpg',\n",
              " 'cat.7819.jpg',\n",
              " 'cat.3929.jpg',\n",
              " 'dog.9055.jpg',\n",
              " 'cat.11671.jpg',\n",
              " 'dog.8200.jpg',\n",
              " 'dog.4732.jpg',\n",
              " 'cat.11889.jpg',\n",
              " 'dog.5320.jpg',\n",
              " 'cat.5021.jpg',\n",
              " 'cat.6241.jpg',\n",
              " 'dog.9098.jpg',\n",
              " 'dog.6414.jpg',\n",
              " 'cat.6203.jpg',\n",
              " 'cat.10219.jpg',\n",
              " 'dog.10150.jpg',\n",
              " ...]"
            ]
          },
          "metadata": {},
          "execution_count": 19
        }
      ],
      "source": [
        "import os\n",
        "os.listdir('train/train')"
      ]
    },
    {
      "cell_type": "code",
      "source": [],
      "metadata": {
        "id": "mQM8QnFw4WHh"
      },
      "execution_count": null,
      "outputs": []
    },
    {
      "cell_type": "code",
      "execution_count": 21,
      "metadata": {
        "id": "OqYKA4nkz9-_"
      },
      "outputs": [],
      "source": [
        "def make_subset(subset_name, start_index, end_index):\n",
        "    for category in (\"cat\", \"dog\"):\n",
        "        dir = new_base_dir + '/' + subset_name + '/' + category\n",
        "        os.makedirs(dir)\n",
        "        fnames = [f\"{category}.{i}.jpg\" for i in range(start_index, end_index)]\n",
        "        for fname in fnames:\n",
        "            shutil.copyfile(src=original_dir + '/' + fname,\n",
        "                            dst=dir + '/' + fname)\n",
        "\n",
        "make_subset(\"train\", start_index=0, end_index=1000)\n",
        "make_subset(\"validation\", start_index=1000, end_index=1500)\n",
        "make_subset(\"test\", start_index=1500, end_index=2500)"
      ]
    },
    {
      "cell_type": "markdown",
      "metadata": {
        "id": "fa6_yYttz9-_"
      },
      "source": [
        "So we now have 2,000 training images, 1,000 validation images, and 2,000 test images. Each split contains the same number of samples from each class: this is a balanced binary-classification problem, which means classification accuracy will be an appropriate measure of success."
      ]
    },
    {
      "cell_type": "markdown",
      "metadata": {
        "id": "T4kzsypmz9-_"
      },
      "source": [
        "### Building your model\n",
        "\n",
        "We will reuse the same general model structure you saw in the first example: the convnet will be a stack of alternated Conv2D (with relu activation) and MaxPooling2D layers.\n",
        "\n",
        "But because we’re dealing with bigger images and a more complex problem, we’ll make our model larger, accordingly: it will have two more Conv2D MaxPooling2D stages. This serves both to augment the capacity of the model and to further reduce the size of the feature maps so they aren’t overly large when we reach the Flatten layer. Here, because we start from inputs of size 180 pixels × 180 pixels (a somewhat arbitrary choice), we end up with feature maps of size 7 × 7 just before the Flatten layer.\n",
        "\n",
        "Note: The depth of the feature maps progressively increases in the model (from 32 to 256), whereas the size of the feature maps decreases (from 180 × 180 to 7 × 7). This is a pattern you’ll see in almost all convnets.\n",
        "\n",
        "Because we’re looking at a binary-classification problem, we’ll end the model with a single unit (a Dense layer of size 1) and a sigmoid activation. This unit will encode the probability that the model is looking at one class or the other.\n",
        "\n",
        "One last small difference: we will start the model with a Rescaling layer, which will rescale image inputs (whose values are originally in the \\[0, 255\\] range) to the \\[0, 1\\] range.\n",
        "\n",
        "#### Instantiating a small convnet for dogs vs. cats classification"
      ]
    },
    {
      "cell_type": "code",
      "execution_count": 24,
      "metadata": {
        "id": "wZQJbYvmz9-_"
      },
      "outputs": [],
      "source": [
        "from tensorflow import keras\n",
        "from tensorflow.keras import layers\n",
        "\n",
        "inputs = keras.Input(shape=(180, 180, 3))\n",
        "x = layers.Rescaling(1./255)(inputs)\n",
        "x = layers.Conv2D(filters=32, kernel_size=3, activation=\"relu\")(x)\n",
        "x = layers.MaxPooling2D(pool_size=2)(x)\n",
        "x = layers.Conv2D(filters=64, kernel_size=3, activation=\"relu\")(x)\n",
        "x = layers.MaxPooling2D(pool_size=2)(x)\n",
        "x = layers.Conv2D(filters=128, kernel_size=3, activation=\"relu\")(x)\n",
        "x = layers.MaxPooling2D(pool_size=2)(x)\n",
        "x = layers.Conv2D(filters=256, kernel_size=3, activation=\"relu\")(x)\n",
        "x = layers.MaxPooling2D(pool_size=2)(x)\n",
        "x = layers.Conv2D(filters=256, kernel_size=3, activation=\"relu\")(x)\n",
        "x = layers.Flatten()(x)\n",
        "outputs = layers.Dense(1, activation=\"sigmoid\")(x)\n",
        "model = keras.Model(inputs=inputs, outputs=outputs)"
      ]
    },
    {
      "cell_type": "markdown",
      "metadata": {
        "id": "tGSCbr_Fz9-_"
      },
      "source": [
        "Let’s look at how the dimensions of the feature maps change with every successive layer:"
      ]
    },
    {
      "cell_type": "code",
      "execution_count": 25,
      "metadata": {
        "id": "I10RtnMBz9-_",
        "outputId": "5405967d-8898-418c-c2b0-fb97b103e114",
        "colab": {
          "base_uri": "https://localhost:8080/",
          "height": 566
        }
      },
      "outputs": [
        {
          "output_type": "display_data",
          "data": {
            "text/plain": [
              "\u001b[1mModel: \"functional\"\u001b[0m\n"
            ],
            "text/html": [
              "<pre style=\"white-space:pre;overflow-x:auto;line-height:normal;font-family:Menlo,'DejaVu Sans Mono',consolas,'Courier New',monospace\"><span style=\"font-weight: bold\">Model: \"functional\"</span>\n",
              "</pre>\n"
            ]
          },
          "metadata": {}
        },
        {
          "output_type": "display_data",
          "data": {
            "text/plain": [
              "┏━━━━━━━━━━━━━━━━━━━━━━━━━━━━━━━━━━━━━━┳━━━━━━━━━━━━━━━━━━━━━━━━━━━━━┳━━━━━━━━━━━━━━━━━┓\n",
              "┃\u001b[1m \u001b[0m\u001b[1mLayer (type)                        \u001b[0m\u001b[1m \u001b[0m┃\u001b[1m \u001b[0m\u001b[1mOutput Shape               \u001b[0m\u001b[1m \u001b[0m┃\u001b[1m \u001b[0m\u001b[1m        Param #\u001b[0m\u001b[1m \u001b[0m┃\n",
              "┡━━━━━━━━━━━━━━━━━━━━━━━━━━━━━━━━━━━━━━╇━━━━━━━━━━━━━━━━━━━━━━━━━━━━━╇━━━━━━━━━━━━━━━━━┩\n",
              "│ input_layer_2 (\u001b[38;5;33mInputLayer\u001b[0m)           │ (\u001b[38;5;45mNone\u001b[0m, \u001b[38;5;34m180\u001b[0m, \u001b[38;5;34m180\u001b[0m, \u001b[38;5;34m3\u001b[0m)         │               \u001b[38;5;34m0\u001b[0m │\n",
              "├──────────────────────────────────────┼─────────────────────────────┼─────────────────┤\n",
              "│ rescaling (\u001b[38;5;33mRescaling\u001b[0m)                │ (\u001b[38;5;45mNone\u001b[0m, \u001b[38;5;34m180\u001b[0m, \u001b[38;5;34m180\u001b[0m, \u001b[38;5;34m3\u001b[0m)         │               \u001b[38;5;34m0\u001b[0m │\n",
              "├──────────────────────────────────────┼─────────────────────────────┼─────────────────┤\n",
              "│ conv2d (\u001b[38;5;33mConv2D\u001b[0m)                      │ (\u001b[38;5;45mNone\u001b[0m, \u001b[38;5;34m178\u001b[0m, \u001b[38;5;34m178\u001b[0m, \u001b[38;5;34m32\u001b[0m)        │             \u001b[38;5;34m896\u001b[0m │\n",
              "├──────────────────────────────────────┼─────────────────────────────┼─────────────────┤\n",
              "│ max_pooling2d (\u001b[38;5;33mMaxPooling2D\u001b[0m)         │ (\u001b[38;5;45mNone\u001b[0m, \u001b[38;5;34m89\u001b[0m, \u001b[38;5;34m89\u001b[0m, \u001b[38;5;34m32\u001b[0m)          │               \u001b[38;5;34m0\u001b[0m │\n",
              "├──────────────────────────────────────┼─────────────────────────────┼─────────────────┤\n",
              "│ conv2d_1 (\u001b[38;5;33mConv2D\u001b[0m)                    │ (\u001b[38;5;45mNone\u001b[0m, \u001b[38;5;34m87\u001b[0m, \u001b[38;5;34m87\u001b[0m, \u001b[38;5;34m64\u001b[0m)          │          \u001b[38;5;34m18,496\u001b[0m │\n",
              "├──────────────────────────────────────┼─────────────────────────────┼─────────────────┤\n",
              "│ max_pooling2d_1 (\u001b[38;5;33mMaxPooling2D\u001b[0m)       │ (\u001b[38;5;45mNone\u001b[0m, \u001b[38;5;34m43\u001b[0m, \u001b[38;5;34m43\u001b[0m, \u001b[38;5;34m64\u001b[0m)          │               \u001b[38;5;34m0\u001b[0m │\n",
              "├──────────────────────────────────────┼─────────────────────────────┼─────────────────┤\n",
              "│ conv2d_2 (\u001b[38;5;33mConv2D\u001b[0m)                    │ (\u001b[38;5;45mNone\u001b[0m, \u001b[38;5;34m41\u001b[0m, \u001b[38;5;34m41\u001b[0m, \u001b[38;5;34m128\u001b[0m)         │          \u001b[38;5;34m73,856\u001b[0m │\n",
              "├──────────────────────────────────────┼─────────────────────────────┼─────────────────┤\n",
              "│ max_pooling2d_2 (\u001b[38;5;33mMaxPooling2D\u001b[0m)       │ (\u001b[38;5;45mNone\u001b[0m, \u001b[38;5;34m20\u001b[0m, \u001b[38;5;34m20\u001b[0m, \u001b[38;5;34m128\u001b[0m)         │               \u001b[38;5;34m0\u001b[0m │\n",
              "├──────────────────────────────────────┼─────────────────────────────┼─────────────────┤\n",
              "│ conv2d_3 (\u001b[38;5;33mConv2D\u001b[0m)                    │ (\u001b[38;5;45mNone\u001b[0m, \u001b[38;5;34m18\u001b[0m, \u001b[38;5;34m18\u001b[0m, \u001b[38;5;34m256\u001b[0m)         │         \u001b[38;5;34m295,168\u001b[0m │\n",
              "├──────────────────────────────────────┼─────────────────────────────┼─────────────────┤\n",
              "│ max_pooling2d_3 (\u001b[38;5;33mMaxPooling2D\u001b[0m)       │ (\u001b[38;5;45mNone\u001b[0m, \u001b[38;5;34m9\u001b[0m, \u001b[38;5;34m9\u001b[0m, \u001b[38;5;34m256\u001b[0m)           │               \u001b[38;5;34m0\u001b[0m │\n",
              "├──────────────────────────────────────┼─────────────────────────────┼─────────────────┤\n",
              "│ conv2d_4 (\u001b[38;5;33mConv2D\u001b[0m)                    │ (\u001b[38;5;45mNone\u001b[0m, \u001b[38;5;34m7\u001b[0m, \u001b[38;5;34m7\u001b[0m, \u001b[38;5;34m256\u001b[0m)           │         \u001b[38;5;34m590,080\u001b[0m │\n",
              "├──────────────────────────────────────┼─────────────────────────────┼─────────────────┤\n",
              "│ flatten (\u001b[38;5;33mFlatten\u001b[0m)                    │ (\u001b[38;5;45mNone\u001b[0m, \u001b[38;5;34m12544\u001b[0m)               │               \u001b[38;5;34m0\u001b[0m │\n",
              "├──────────────────────────────────────┼─────────────────────────────┼─────────────────┤\n",
              "│ dense (\u001b[38;5;33mDense\u001b[0m)                        │ (\u001b[38;5;45mNone\u001b[0m, \u001b[38;5;34m1\u001b[0m)                   │          \u001b[38;5;34m12,545\u001b[0m │\n",
              "└──────────────────────────────────────┴─────────────────────────────┴─────────────────┘\n"
            ],
            "text/html": [
              "<pre style=\"white-space:pre;overflow-x:auto;line-height:normal;font-family:Menlo,'DejaVu Sans Mono',consolas,'Courier New',monospace\">┏━━━━━━━━━━━━━━━━━━━━━━━━━━━━━━━━━━━━━━┳━━━━━━━━━━━━━━━━━━━━━━━━━━━━━┳━━━━━━━━━━━━━━━━━┓\n",
              "┃<span style=\"font-weight: bold\"> Layer (type)                         </span>┃<span style=\"font-weight: bold\"> Output Shape                </span>┃<span style=\"font-weight: bold\">         Param # </span>┃\n",
              "┡━━━━━━━━━━━━━━━━━━━━━━━━━━━━━━━━━━━━━━╇━━━━━━━━━━━━━━━━━━━━━━━━━━━━━╇━━━━━━━━━━━━━━━━━┩\n",
              "│ input_layer_2 (<span style=\"color: #0087ff; text-decoration-color: #0087ff\">InputLayer</span>)           │ (<span style=\"color: #00d7ff; text-decoration-color: #00d7ff\">None</span>, <span style=\"color: #00af00; text-decoration-color: #00af00\">180</span>, <span style=\"color: #00af00; text-decoration-color: #00af00\">180</span>, <span style=\"color: #00af00; text-decoration-color: #00af00\">3</span>)         │               <span style=\"color: #00af00; text-decoration-color: #00af00\">0</span> │\n",
              "├──────────────────────────────────────┼─────────────────────────────┼─────────────────┤\n",
              "│ rescaling (<span style=\"color: #0087ff; text-decoration-color: #0087ff\">Rescaling</span>)                │ (<span style=\"color: #00d7ff; text-decoration-color: #00d7ff\">None</span>, <span style=\"color: #00af00; text-decoration-color: #00af00\">180</span>, <span style=\"color: #00af00; text-decoration-color: #00af00\">180</span>, <span style=\"color: #00af00; text-decoration-color: #00af00\">3</span>)         │               <span style=\"color: #00af00; text-decoration-color: #00af00\">0</span> │\n",
              "├──────────────────────────────────────┼─────────────────────────────┼─────────────────┤\n",
              "│ conv2d (<span style=\"color: #0087ff; text-decoration-color: #0087ff\">Conv2D</span>)                      │ (<span style=\"color: #00d7ff; text-decoration-color: #00d7ff\">None</span>, <span style=\"color: #00af00; text-decoration-color: #00af00\">178</span>, <span style=\"color: #00af00; text-decoration-color: #00af00\">178</span>, <span style=\"color: #00af00; text-decoration-color: #00af00\">32</span>)        │             <span style=\"color: #00af00; text-decoration-color: #00af00\">896</span> │\n",
              "├──────────────────────────────────────┼─────────────────────────────┼─────────────────┤\n",
              "│ max_pooling2d (<span style=\"color: #0087ff; text-decoration-color: #0087ff\">MaxPooling2D</span>)         │ (<span style=\"color: #00d7ff; text-decoration-color: #00d7ff\">None</span>, <span style=\"color: #00af00; text-decoration-color: #00af00\">89</span>, <span style=\"color: #00af00; text-decoration-color: #00af00\">89</span>, <span style=\"color: #00af00; text-decoration-color: #00af00\">32</span>)          │               <span style=\"color: #00af00; text-decoration-color: #00af00\">0</span> │\n",
              "├──────────────────────────────────────┼─────────────────────────────┼─────────────────┤\n",
              "│ conv2d_1 (<span style=\"color: #0087ff; text-decoration-color: #0087ff\">Conv2D</span>)                    │ (<span style=\"color: #00d7ff; text-decoration-color: #00d7ff\">None</span>, <span style=\"color: #00af00; text-decoration-color: #00af00\">87</span>, <span style=\"color: #00af00; text-decoration-color: #00af00\">87</span>, <span style=\"color: #00af00; text-decoration-color: #00af00\">64</span>)          │          <span style=\"color: #00af00; text-decoration-color: #00af00\">18,496</span> │\n",
              "├──────────────────────────────────────┼─────────────────────────────┼─────────────────┤\n",
              "│ max_pooling2d_1 (<span style=\"color: #0087ff; text-decoration-color: #0087ff\">MaxPooling2D</span>)       │ (<span style=\"color: #00d7ff; text-decoration-color: #00d7ff\">None</span>, <span style=\"color: #00af00; text-decoration-color: #00af00\">43</span>, <span style=\"color: #00af00; text-decoration-color: #00af00\">43</span>, <span style=\"color: #00af00; text-decoration-color: #00af00\">64</span>)          │               <span style=\"color: #00af00; text-decoration-color: #00af00\">0</span> │\n",
              "├──────────────────────────────────────┼─────────────────────────────┼─────────────────┤\n",
              "│ conv2d_2 (<span style=\"color: #0087ff; text-decoration-color: #0087ff\">Conv2D</span>)                    │ (<span style=\"color: #00d7ff; text-decoration-color: #00d7ff\">None</span>, <span style=\"color: #00af00; text-decoration-color: #00af00\">41</span>, <span style=\"color: #00af00; text-decoration-color: #00af00\">41</span>, <span style=\"color: #00af00; text-decoration-color: #00af00\">128</span>)         │          <span style=\"color: #00af00; text-decoration-color: #00af00\">73,856</span> │\n",
              "├──────────────────────────────────────┼─────────────────────────────┼─────────────────┤\n",
              "│ max_pooling2d_2 (<span style=\"color: #0087ff; text-decoration-color: #0087ff\">MaxPooling2D</span>)       │ (<span style=\"color: #00d7ff; text-decoration-color: #00d7ff\">None</span>, <span style=\"color: #00af00; text-decoration-color: #00af00\">20</span>, <span style=\"color: #00af00; text-decoration-color: #00af00\">20</span>, <span style=\"color: #00af00; text-decoration-color: #00af00\">128</span>)         │               <span style=\"color: #00af00; text-decoration-color: #00af00\">0</span> │\n",
              "├──────────────────────────────────────┼─────────────────────────────┼─────────────────┤\n",
              "│ conv2d_3 (<span style=\"color: #0087ff; text-decoration-color: #0087ff\">Conv2D</span>)                    │ (<span style=\"color: #00d7ff; text-decoration-color: #00d7ff\">None</span>, <span style=\"color: #00af00; text-decoration-color: #00af00\">18</span>, <span style=\"color: #00af00; text-decoration-color: #00af00\">18</span>, <span style=\"color: #00af00; text-decoration-color: #00af00\">256</span>)         │         <span style=\"color: #00af00; text-decoration-color: #00af00\">295,168</span> │\n",
              "├──────────────────────────────────────┼─────────────────────────────┼─────────────────┤\n",
              "│ max_pooling2d_3 (<span style=\"color: #0087ff; text-decoration-color: #0087ff\">MaxPooling2D</span>)       │ (<span style=\"color: #00d7ff; text-decoration-color: #00d7ff\">None</span>, <span style=\"color: #00af00; text-decoration-color: #00af00\">9</span>, <span style=\"color: #00af00; text-decoration-color: #00af00\">9</span>, <span style=\"color: #00af00; text-decoration-color: #00af00\">256</span>)           │               <span style=\"color: #00af00; text-decoration-color: #00af00\">0</span> │\n",
              "├──────────────────────────────────────┼─────────────────────────────┼─────────────────┤\n",
              "│ conv2d_4 (<span style=\"color: #0087ff; text-decoration-color: #0087ff\">Conv2D</span>)                    │ (<span style=\"color: #00d7ff; text-decoration-color: #00d7ff\">None</span>, <span style=\"color: #00af00; text-decoration-color: #00af00\">7</span>, <span style=\"color: #00af00; text-decoration-color: #00af00\">7</span>, <span style=\"color: #00af00; text-decoration-color: #00af00\">256</span>)           │         <span style=\"color: #00af00; text-decoration-color: #00af00\">590,080</span> │\n",
              "├──────────────────────────────────────┼─────────────────────────────┼─────────────────┤\n",
              "│ flatten (<span style=\"color: #0087ff; text-decoration-color: #0087ff\">Flatten</span>)                    │ (<span style=\"color: #00d7ff; text-decoration-color: #00d7ff\">None</span>, <span style=\"color: #00af00; text-decoration-color: #00af00\">12544</span>)               │               <span style=\"color: #00af00; text-decoration-color: #00af00\">0</span> │\n",
              "├──────────────────────────────────────┼─────────────────────────────┼─────────────────┤\n",
              "│ dense (<span style=\"color: #0087ff; text-decoration-color: #0087ff\">Dense</span>)                        │ (<span style=\"color: #00d7ff; text-decoration-color: #00d7ff\">None</span>, <span style=\"color: #00af00; text-decoration-color: #00af00\">1</span>)                   │          <span style=\"color: #00af00; text-decoration-color: #00af00\">12,545</span> │\n",
              "└──────────────────────────────────────┴─────────────────────────────┴─────────────────┘\n",
              "</pre>\n"
            ]
          },
          "metadata": {}
        },
        {
          "output_type": "display_data",
          "data": {
            "text/plain": [
              "\u001b[1m Total params: \u001b[0m\u001b[38;5;34m991,041\u001b[0m (3.78 MB)\n"
            ],
            "text/html": [
              "<pre style=\"white-space:pre;overflow-x:auto;line-height:normal;font-family:Menlo,'DejaVu Sans Mono',consolas,'Courier New',monospace\"><span style=\"font-weight: bold\"> Total params: </span><span style=\"color: #00af00; text-decoration-color: #00af00\">991,041</span> (3.78 MB)\n",
              "</pre>\n"
            ]
          },
          "metadata": {}
        },
        {
          "output_type": "display_data",
          "data": {
            "text/plain": [
              "\u001b[1m Trainable params: \u001b[0m\u001b[38;5;34m991,041\u001b[0m (3.78 MB)\n"
            ],
            "text/html": [
              "<pre style=\"white-space:pre;overflow-x:auto;line-height:normal;font-family:Menlo,'DejaVu Sans Mono',consolas,'Courier New',monospace\"><span style=\"font-weight: bold\"> Trainable params: </span><span style=\"color: #00af00; text-decoration-color: #00af00\">991,041</span> (3.78 MB)\n",
              "</pre>\n"
            ]
          },
          "metadata": {}
        },
        {
          "output_type": "display_data",
          "data": {
            "text/plain": [
              "\u001b[1m Non-trainable params: \u001b[0m\u001b[38;5;34m0\u001b[0m (0.00 B)\n"
            ],
            "text/html": [
              "<pre style=\"white-space:pre;overflow-x:auto;line-height:normal;font-family:Menlo,'DejaVu Sans Mono',consolas,'Courier New',monospace\"><span style=\"font-weight: bold\"> Non-trainable params: </span><span style=\"color: #00af00; text-decoration-color: #00af00\">0</span> (0.00 B)\n",
              "</pre>\n"
            ]
          },
          "metadata": {}
        }
      ],
      "source": [
        "model.summary()"
      ]
    },
    {
      "cell_type": "markdown",
      "metadata": {
        "id": "35_YYJJJz9_A"
      },
      "source": [
        "For the compilation step, you’ll go with the RMSprop optimizer, as usual. Because you ended the model with a single sigmoid unit, you’ll use binary crossentropy as the loss.\n",
        "\n",
        "#### Configuring the model for training"
      ]
    },
    {
      "cell_type": "code",
      "execution_count": 26,
      "metadata": {
        "id": "nl206ASsz9_A"
      },
      "outputs": [],
      "source": [
        "model.compile(loss=\"binary_crossentropy\",\n",
        "              optimizer=\"rmsprop\",\n",
        "              metrics=[\"accuracy\"])"
      ]
    },
    {
      "cell_type": "markdown",
      "metadata": {
        "id": "B2-EUxKkz9_A"
      },
      "source": [
        "### Data preprocessing\n",
        "As you know by now, data should be formatted into appropriately preprocessed floating-point tensors before being fed into the model. Currently, the data sits on a drive as JPEG files, so the steps for getting it into the model are roughly as follows:\n",
        "\n",
        "Read the picture files.\n",
        "Decode the JPEG content to RGB grids of pixels.\n",
        "Convert these into floating-point tensors.\n",
        "Resize them to a shared size (we’ll use 180 x 180).\n",
        "Pack them into batches (we’ll use batches of 32 images).\n",
        "It may seem a bit daunting, but fortunately Keras has utilities to take care of these steps automatically. In particular, Keras features the utility function image_dataset_from_directory, which lets you quickly set up a data pipeline that can automatically turn image files on disk into batches of preprocessed tensors. This is what you’ll use here.\n",
        "\n",
        "Calling image_dataset_from_directory(directory) will first list the subdirectories of directory and assume each one contains images from one of your class. It will then index the image files in each subdirectory. Finally, it will create and return a tf.data.Dataset object configured to read these files, shuffle them, decode them to tensors, resize them to a shared size, and pack them into batches."
      ]
    },
    {
      "cell_type": "code",
      "execution_count": 27,
      "metadata": {
        "id": "AoVqz0Glz9_A",
        "outputId": "719dbc39-06a9-4d59-fbcf-b018a4ffae76",
        "colab": {
          "base_uri": "https://localhost:8080/"
        }
      },
      "outputs": [
        {
          "output_type": "stream",
          "name": "stdout",
          "text": [
            "Found 2000 files belonging to 2 classes.\n",
            "Found 1000 files belonging to 2 classes.\n",
            "Found 2000 files belonging to 2 classes.\n"
          ]
        }
      ],
      "source": [
        "from tensorflow.keras.preprocessing import image_dataset_from_directory\n",
        "\n",
        "train_dataset = image_dataset_from_directory(\n",
        "    new_base_dir + '/' + \"train\",\n",
        "    image_size=(180, 180),\n",
        "    batch_size=32)\n",
        "validation_dataset = image_dataset_from_directory(\n",
        "    new_base_dir  + '/' +  \"validation\",\n",
        "    image_size=(180, 180),\n",
        "    batch_size=32)\n",
        "test_dataset = image_dataset_from_directory(\n",
        "    new_base_dir  + '/' +  \"test\",\n",
        "    image_size=(180, 180),\n",
        "    batch_size=32)"
      ]
    },
    {
      "cell_type": "markdown",
      "metadata": {
        "id": "FN2JoEOMz9_A"
      },
      "source": [
        "### UNDERSTANDING TENSORFLOW DATASET OBJECTS\n",
        "\n",
        "TensorFlow makes available the tf.data API to create efficient input pipelines for machine learning models. Its core class is tf.data.Dataset.\n",
        "\n",
        "A Dataset object is an iterator: you can use it in a for loop. It will typically return batches of input data and labels. You can pass a Dataset object directly to the fit() method of a Keras model.\n",
        "\n",
        "The Dataset class handles many key features that would otherwise be cumbersome to implement yourself, a in particular asynchronous data prefetching (preprocessing the next batch of data while the previous one is being handled by the model, which keeps execution flowing without interruptions).\n",
        "\n",
        "The Dataset class also exposes a functional-style API for modifying datasets. Here’s a quick example: let’s create a Dataset instance from a NumPy array of random numbers. We’ll consider 1000 samples, where each sample is a vector of size 16."
      ]
    },
    {
      "cell_type": "code",
      "execution_count": 28,
      "metadata": {
        "id": "1sa47WiHz9_A"
      },
      "outputs": [],
      "source": [
        "import numpy as np\n",
        "import tensorflow as tf\n",
        "random_numbers = np.random.normal(size=(1000, 16))\n",
        "dataset = tf.data.Dataset.from_tensor_slices(random_numbers)"
      ]
    },
    {
      "cell_type": "markdown",
      "metadata": {
        "id": "fvH5Jtvlz9_A"
      },
      "source": [
        "At first, our dataset just yield single samples:"
      ]
    },
    {
      "cell_type": "code",
      "execution_count": 29,
      "metadata": {
        "id": "chgrvghWz9_A",
        "outputId": "4eba69a4-5ea4-4786-e6eb-04bbb24897dc",
        "colab": {
          "base_uri": "https://localhost:8080/"
        }
      },
      "outputs": [
        {
          "output_type": "stream",
          "name": "stdout",
          "text": [
            "(16,)\n",
            "(16,)\n",
            "(16,)\n"
          ]
        }
      ],
      "source": [
        "for i, element in enumerate(dataset):\n",
        "    print(element.shape)\n",
        "    if i >= 2:\n",
        "        break"
      ]
    },
    {
      "cell_type": "markdown",
      "metadata": {
        "id": "fkpXaFg9z9_A"
      },
      "source": [
        "You can use the .batch() method to batch the data:"
      ]
    },
    {
      "cell_type": "code",
      "execution_count": 30,
      "metadata": {
        "id": "iLYuD-s2z9_A",
        "outputId": "7e4b3901-bed2-4006-c945-76fe35719953",
        "colab": {
          "base_uri": "https://localhost:8080/"
        }
      },
      "outputs": [
        {
          "output_type": "stream",
          "name": "stdout",
          "text": [
            "(32, 16)\n",
            "(32, 16)\n",
            "(32, 16)\n"
          ]
        }
      ],
      "source": [
        "batched_dataset = dataset.batch(32)\n",
        "for i, element in enumerate(batched_dataset):\n",
        "    print(element.shape)\n",
        "    if i >= 2:\n",
        "        break"
      ]
    },
    {
      "cell_type": "markdown",
      "metadata": {
        "id": "No9s-jgYz9_B"
      },
      "source": [
        "More broadly, you have access to a range of useful dataset methods, such as:\n",
        "\n",
        "* .shuffle(buffer_size) will shuffle elements within a buffer.\n",
        "* .prefetch(buffer_size) will prefetch a buffer of elements in GPU memory to achieve better device utilization.\n",
        "* .map(callable) will apply an arbitrary transformation to each element of the dataset (the function callable, expected to take as input a single element yielded by the dataset).\n",
        "\n",
        "The method .map() in particular is one that you will use often. Here’s an example: let’s use it to reshape the elements in our toy dataset from shape (16,) to shape (4, 4):"
      ]
    },
    {
      "cell_type": "code",
      "execution_count": 31,
      "metadata": {
        "id": "OAZ1JnbRz9_B",
        "outputId": "4dbeaa59-15b4-4556-9028-e34858bb1a9a",
        "colab": {
          "base_uri": "https://localhost:8080/"
        }
      },
      "outputs": [
        {
          "output_type": "stream",
          "name": "stdout",
          "text": [
            "(4, 4)\n",
            "(4, 4)\n",
            "(4, 4)\n"
          ]
        }
      ],
      "source": [
        "reshaped_dataset = dataset.map(lambda x: tf.reshape(x, (4, 4)))\n",
        "for i, element in enumerate(reshaped_dataset):\n",
        "    print(element.shape)\n",
        "    if i >= 2:\n",
        "        break"
      ]
    },
    {
      "cell_type": "markdown",
      "metadata": {
        "id": "GvzbBHnAz9_B"
      },
      "source": [
        "You’re about to see more map() action in this chapter."
      ]
    },
    {
      "cell_type": "markdown",
      "metadata": {
        "id": "PnHVWz3kz9_B"
      },
      "source": [
        "Let’s look at the output of one of these Dataset objects: it yields batches of 180 × 180 RGB images (shape (32, 180, 180, 3)) and integer labels (shape (32,)). There are 32 samples in each batch (the batch size)."
      ]
    },
    {
      "cell_type": "code",
      "execution_count": 32,
      "metadata": {
        "id": "oETPftlGz9_B",
        "outputId": "54d3f27b-b9ed-450c-f0c8-44796a9e39f0",
        "colab": {
          "base_uri": "https://localhost:8080/"
        }
      },
      "outputs": [
        {
          "output_type": "stream",
          "name": "stdout",
          "text": [
            "data batch shape: (32, 180, 180, 3)\n",
            "labels batch shape: (32,)\n"
          ]
        }
      ],
      "source": [
        "for data_batch, labels_batch in train_dataset:\n",
        "    print(\"data batch shape:\", data_batch.shape)\n",
        "    print(\"labels batch shape:\", labels_batch.shape)\n",
        "    break"
      ]
    },
    {
      "cell_type": "markdown",
      "metadata": {
        "id": "-xg7ZZTDz9_B"
      },
      "source": [
        "Let’s fit the model on our dataset. We use the validation_data argument in fit() to monitor validation metrics on a separate Dataset object.\n",
        "\n",
        "Note that we also use a ModelCheckpoint callback to save the model after each epoch. We configure it with the path where to save the file, as well as the arguments save_best_only=True and monitor=\"val_loss\": they tell the callback to only save a new file (overwriting any previous one) when the current value of the val_loss metric is lower than at any previous time during training. This guarantees that your saved file will always contain the state of the model corresponding to its best-performing training epoch, in terms of its performance on the validation data. As a result, we won’t have to retrain a new model for a lower number of epochs if we start overfitting: we can just reload our saved file."
      ]
    },
    {
      "cell_type": "code",
      "execution_count": null,
      "metadata": {
        "id": "bRoQkofjz9_C",
        "outputId": "18681792-6192-47bd-f42f-f13119437f45",
        "colab": {
          "base_uri": "https://localhost:8080/"
        }
      },
      "outputs": [
        {
          "output_type": "stream",
          "name": "stdout",
          "text": [
            "Epoch 1/30\n",
            "\u001b[1m63/63\u001b[0m \u001b[32m━━━━━━━━━━━━━━━━━━━━\u001b[0m\u001b[37m\u001b[0m \u001b[1m114s\u001b[0m 2s/step - accuracy: 0.5157 - loss: 0.6970 - val_accuracy: 0.5000 - val_loss: 0.7181\n",
            "Epoch 2/30\n",
            "\u001b[1m63/63\u001b[0m \u001b[32m━━━━━━━━━━━━━━━━━━━━\u001b[0m\u001b[37m\u001b[0m \u001b[1m116s\u001b[0m 2s/step - accuracy: 0.5403 - loss: 0.6939 - val_accuracy: 0.6200 - val_loss: 0.6860\n",
            "Epoch 3/30\n",
            "\u001b[1m63/63\u001b[0m \u001b[32m━━━━━━━━━━━━━━━━━━━━\u001b[0m\u001b[37m\u001b[0m \u001b[1m144s\u001b[0m 2s/step - accuracy: 0.5660 - loss: 0.6859 - val_accuracy: 0.5750 - val_loss: 0.6761\n",
            "Epoch 4/30\n",
            "\u001b[1m63/63\u001b[0m \u001b[32m━━━━━━━━━━━━━━━━━━━━\u001b[0m\u001b[37m\u001b[0m \u001b[1m132s\u001b[0m 2s/step - accuracy: 0.6295 - loss: 0.6499 - val_accuracy: 0.6590 - val_loss: 0.6322\n",
            "Epoch 5/30\n",
            "\u001b[1m63/63\u001b[0m \u001b[32m━━━━━━━━━━━━━━━━━━━━\u001b[0m\u001b[37m\u001b[0m \u001b[1m149s\u001b[0m 2s/step - accuracy: 0.6768 - loss: 0.6070 - val_accuracy: 0.6710 - val_loss: 0.6351\n",
            "Epoch 6/30\n",
            "\u001b[1m21/63\u001b[0m \u001b[32m━━━━━━\u001b[0m\u001b[37m━━━━━━━━━━━━━━\u001b[0m \u001b[1m1:03\u001b[0m 2s/step - accuracy: 0.6435 - loss: 0.6611"
          ]
        }
      ],
      "source": [
        "EPOCHS = 30\n",
        "\n",
        "callbacks = [\n",
        "    keras.callbacks.ModelCheckpoint(\n",
        "        filepath=\"convnet_from_scratch.keras\",\n",
        "        save_best_only=True,\n",
        "        monitor=\"val_loss\")\n",
        "]\n",
        "history = model.fit(\n",
        "    train_dataset,\n",
        "    epochs=EPOCHS,\n",
        "    validation_data=validation_dataset,\n",
        "    callbacks=callbacks)"
      ]
    },
    {
      "cell_type": "markdown",
      "metadata": {
        "id": "VyQwfnbRz9_C"
      },
      "source": [
        "Let’s plot the loss and accuracy of the model over the training and validation data during training."
      ]
    },
    {
      "cell_type": "code",
      "execution_count": null,
      "metadata": {
        "id": "vsMU-xAjz9_C"
      },
      "outputs": [],
      "source": [
        "import matplotlib.pyplot as plt\n",
        "accuracy = history.history[\"accuracy\"]\n",
        "val_accuracy = history.history[\"val_accuracy\"]\n",
        "loss = history.history[\"loss\"]\n",
        "val_loss = history.history[\"val_loss\"]\n",
        "epochs = range(1, len(accuracy) + 1)\n",
        "plt.plot(epochs, accuracy, \"bo\", label=\"Training accuracy\")\n",
        "plt.plot(epochs, val_accuracy, \"b\", label=\"Validation accuracy\")\n",
        "plt.title(\"Training and validation accuracy\")\n",
        "plt.legend()\n",
        "plt.figure()\n",
        "plt.plot(epochs, loss, \"bo\", label=\"Training loss\")\n",
        "plt.plot(epochs, val_loss, \"b\", label=\"Validation loss\")\n",
        "plt.title(\"Training and validation loss\")\n",
        "plt.legend()\n",
        "plt.show()"
      ]
    },
    {
      "cell_type": "markdown",
      "metadata": {
        "id": "QFtc6oZdz9_C"
      },
      "source": [
        "(When you run for 30 epochs,) These plots are characteristic of overfitting. The training accuracy increases linearly over time, until it reaches nearly 100%, whereas the validation accuracy peaks at 75%. The validation loss reaches its minimum after only ten epochs and then stalls, whereas the training loss keeps decreasing linearly as training proceeds.\n",
        "\n",
        "Let’s check the test accuracy. We’ll reload the model from its saved file so as to evaluate as it was before it started overfitting."
      ]
    },
    {
      "cell_type": "code",
      "execution_count": null,
      "metadata": {
        "id": "7HTfBBNnz9_C"
      },
      "outputs": [],
      "source": [
        "test_model = keras.models.load_model(\"convnet_from_scratch.keras\")\n",
        "test_loss, test_acc = test_model.evaluate(test_dataset)\n",
        "print(f\"Test accuracy: {test_acc:.3f}\")"
      ]
    },
    {
      "cell_type": "markdown",
      "metadata": {
        "id": "3_rNRPtuz9_C"
      },
      "source": [
        "We get a test accuracy of 69.5% (due to the randomness of neural network initializations, you may get numbers within one percentage point of that).\n",
        "\n",
        "Because you have relatively few training samples (2,000), overfitting will be your number-one concern. You already know about a number of techniques that can help mitigate overfitting, such as dropout and weight decay (L2 regularization). We’re now going to work with a new one, specific to computer vision and used almost universally when processing images with deep-learning models: data augmentation.\n",
        "\n",
        "## Using data augmentation\n",
        "\n",
        "Overfitting is caused by having too few samples to learn from, rendering you unable to train a model that can generalize to new data. Given infinite data, your model would be exposed to every possible aspect of the data distribution at hand: you would never overfit. Data augmentation takes the approach of generating more training data from existing training samples, by augmenting the samples via a number of random transformations that yield believable-looking images. The goal is that at training time, your model will never see the exact same picture twice. This helps expose the model to more aspects of the data and generalize better.\n",
        "\n",
        "In Keras, this can be done by adding a number of data augmentation layers at the start of your model. Let’s get started with an example: here’s a Sequential model that chains several random image transformations. In our model, we’d include it right before the Rescaling layer.\n",
        "\n"
      ]
    },
    {
      "cell_type": "code",
      "execution_count": null,
      "metadata": {
        "id": "RxXdXla_z9_C"
      },
      "outputs": [],
      "source": [
        "data_augmentation = keras.Sequential(\n",
        "    [\n",
        "        layers.experimental.preprocessing.RandomFlip(\"horizontal\"),\n",
        "        layers.experimental.preprocessing.RandomRotation(0.1),\n",
        "        layers.experimental.preprocessing.RandomZoom(0.2),\n",
        "    ]\n",
        ")"
      ]
    },
    {
      "cell_type": "markdown",
      "metadata": {
        "id": "azCh-qnZz9_D"
      },
      "source": [
        "These are just a few of the layers available (for more, see the Keras documentation). Let’s quickly go over this code:\n",
        "\n",
        "RandomFlip(\"horizontal\") will apply horizontal flipping to a random 50% of the images that go through it.\n",
        "RandomRotation(0.1) will rotation the input images by a random value in the range \\[-10%, +10%\\] (these are fractions of a full circle—in degrees the range would be \\[-36 degrees, +36 degrees\\]).\n",
        "RandomZoom(0.2) will zoom in or out of the image by a random factor in the range \\[-20%, +20%\\].\n",
        "Let’s look at the augmented images."
      ]
    },
    {
      "cell_type": "code",
      "execution_count": null,
      "metadata": {
        "id": "2yuS94Qpz9_D"
      },
      "outputs": [],
      "source": [
        "plt.figure(figsize=(10, 10))\n",
        "for images, _ in train_dataset.take(1):\n",
        "    for i in range(9):\n",
        "        augmented_images = data_augmentation(images)\n",
        "        ax = plt.subplot(3, 3, i + 1)\n",
        "        plt.imshow(augmented_images[0].numpy().astype(\"uint8\"))\n",
        "        plt.axis(\"off\")"
      ]
    },
    {
      "cell_type": "markdown",
      "metadata": {
        "id": "9S6cnCfnz9_D"
      },
      "source": [
        "If you train a new model using this data-augmentation configuration, the model will never see the same input twice. But the inputs it sees are still heavily intercorrelated, because they come from a small number of original images—you can’t produce new information, you can only remix existing information. As such, this may not be enough to completely get rid of overfitting. To further fight overfitting, you’ll also add a Dropout layer to your model, right before the densely connected classifier.\n",
        "\n",
        "One last thing you should know about random image augmentation layers: just like Dropout, they’re inactive during inference (when you call predict() or evaluate()). During evaluation, your model will behave just the same as when it did not include data augmentation and dropout."
      ]
    },
    {
      "cell_type": "code",
      "execution_count": null,
      "metadata": {
        "id": "3vDGBxK3z9_D"
      },
      "outputs": [],
      "source": [
        "inputs = keras.Input(shape=(180, 180, 3))\n",
        "x = data_augmentation(inputs)\n",
        "x = layers.Rescaling(1./255)(x)\n",
        "x = layers.Conv2D(filters=32, kernel_size=3, activation=\"relu\")(x)\n",
        "x = layers.MaxPooling2D(pool_size=2)(x)\n",
        "x = layers.Conv2D(filters=64, kernel_size=3, activation=\"relu\")(x)\n",
        "x = layers.MaxPooling2D(pool_size=2)(x)\n",
        "x = layers.Conv2D(filters=128, kernel_size=3, activation=\"relu\")(x)\n",
        "x = layers.MaxPooling2D(pool_size=2)(x)\n",
        "x = layers.Conv2D(filters=256, kernel_size=3, activation=\"relu\")(x)\n",
        "x = layers.MaxPooling2D(pool_size=2)(x)\n",
        "x = layers.Conv2D(filters=256, kernel_size=3, activation=\"relu\")(x)\n",
        "x = layers.Flatten()(x)\n",
        "x = layers.Dropout(0.5)(x)\n",
        "outputs = layers.Dense(1, activation=\"sigmoid\")(x)\n",
        "model = keras.Model(inputs=inputs, outputs=outputs)\n",
        "\n",
        "model.compile(loss=\"binary_crossentropy\",\n",
        "              optimizer=\"rmsprop\",\n",
        "              metrics=[\"accuracy\"])"
      ]
    },
    {
      "cell_type": "markdown",
      "metadata": {
        "id": "dsbG69H_z9_D"
      },
      "source": [
        "Let’s train the model using data augmentation and dropout. Because we expect overfitting to occur much later during training, we will train for 3x as many epochs—one hundred."
      ]
    },
    {
      "cell_type": "code",
      "execution_count": null,
      "metadata": {
        "id": "IiaWjZ75z9_D"
      },
      "outputs": [],
      "source": [
        "EPOCHS = 100\n",
        "callbacks = [\n",
        "    keras.callbacks.ModelCheckpoint(\n",
        "        filepath=\"convnet_from_scratch_with_augmentation.keras\",\n",
        "        save_best_only=True,\n",
        "        monitor=\"val_loss\")\n",
        "]\n",
        "history = model.fit(\n",
        "    train_dataset,\n",
        "    epochs=EPOCHS,\n",
        "    validation_data=validation_dataset,\n",
        "    callbacks=callbacks)"
      ]
    },
    {
      "cell_type": "markdown",
      "metadata": {
        "id": "W8u_5Pttz9_E"
      },
      "source": [
        "Let’s plot the results again. Thanks to data augmentation and dropout, we start overfitting much later, around epochs 60-70 (compared to epoch 10 for the original model). The validation accuracy ends up consistently in the 80-85% range—a big improvement over our first try."
      ]
    },
    {
      "cell_type": "code",
      "execution_count": null,
      "metadata": {
        "id": "WI000e0Cz9_E"
      },
      "outputs": [],
      "source": [
        "import matplotlib.pyplot as plt\n",
        "accuracy = history.history[\"accuracy\"]\n",
        "val_accuracy = history.history[\"val_accuracy\"]\n",
        "loss = history.history[\"loss\"]\n",
        "val_loss = history.history[\"val_loss\"]\n",
        "epochs = range(1, len(accuracy) + 1)\n",
        "plt.plot(epochs, accuracy, \"bo\", label=\"Training accuracy\")\n",
        "plt.plot(epochs, val_accuracy, \"b\", label=\"Validation accuracy\")\n",
        "plt.title(\"Training and validation accuracy\")\n",
        "plt.legend()\n",
        "plt.figure()\n",
        "plt.plot(epochs, loss, \"bo\", label=\"Training loss\")\n",
        "plt.plot(epochs, val_loss, \"b\", label=\"Validation loss\")\n",
        "plt.title(\"Training and validation loss\")\n",
        "plt.legend()\n",
        "plt.show()"
      ]
    },
    {
      "cell_type": "markdown",
      "metadata": {
        "id": "KZXnU8uvz9_E"
      },
      "source": [
        "Let’s check the test accuracy:"
      ]
    },
    {
      "cell_type": "code",
      "execution_count": null,
      "metadata": {
        "id": "Qj1jTp-dz9_E"
      },
      "outputs": [],
      "source": [
        "test_model = keras.models.load_model(\n",
        "    \"convnet_from_scratch_with_augmentation.keras\")\n",
        "test_loss, test_acc = test_model.evaluate(test_dataset)\n",
        "print(f\"Test accuracy: {test_acc:.3f}\")"
      ]
    },
    {
      "cell_type": "markdown",
      "metadata": {
        "id": "Q30mlHJEz9_E"
      },
      "source": [
        "We get a test accuracy of 83.5%. It’s starting to look good!\n",
        "\n",
        "By further tuning the model’s configuration (such as the number of filters per convolution layer, or the number of layers in the model), you may be able to get an even better accuracy, likely up to 90%. But it would prove difficult to go any higher just by training your own convnet from scratch, because you have so little data to work with. As a next step to improve your accuracy on this problem, you’ll have to use a pretrained model, which is the focus of the next two sections."
      ]
    },
    {
      "cell_type": "code",
      "execution_count": null,
      "metadata": {
        "id": "mNPQmBNTz9_E"
      },
      "outputs": [],
      "source": []
    }
  ],
  "metadata": {
    "interpreter": {
      "hash": "e88cacac4a4e81780274e5b67662f71286bfdfe71b49b67699dc84b91a2b06f4"
    },
    "kernelspec": {
      "display_name": "Python 3 (ipykernel)",
      "language": "python",
      "name": "python3"
    },
    "language_info": {
      "codemirror_mode": {
        "name": "ipython",
        "version": 3
      },
      "file_extension": ".py",
      "mimetype": "text/x-python",
      "name": "python",
      "nbconvert_exporter": "python",
      "pygments_lexer": "ipython3",
      "version": "3.10.13"
    },
    "colab": {
      "provenance": []
    }
  },
  "nbformat": 4,
  "nbformat_minor": 0
}